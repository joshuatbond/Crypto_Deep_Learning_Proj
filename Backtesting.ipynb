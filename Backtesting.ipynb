{
 "cells": [
  {
   "cell_type": "code",
   "execution_count": 1,
   "metadata": {},
   "outputs": [],
   "source": [
    "import matplotlib.pyplot as plt\n",
    "\n",
    "from tensorflow.keras.models import Sequential\n",
    "from tensorflow.keras.layers import Dense\n",
    "\n",
    "import os\n",
    "import pandas as pd\n",
    "import numpy as np\n",
    "import pickle as pk\n",
    "from sklearn.decomposition import PCA\n",
    "from sklearn.preprocessing import StandardScaler\n",
    "\n",
    "from scipy.stats import ttest_1samp"
   ]
  },
  {
   "cell_type": "code",
   "execution_count": 2,
   "metadata": {},
   "outputs": [],
   "source": [
    "# Define stoploss and take profit\n",
    "stoploss = .05\n",
    "takeprofit = .12\n",
    "list_nPCs = [10, 15, 20, 25, 30]\n",
    "fees = 0.001 # 0.1% fee structure for portfolio management\n",
    "\n",
    "# Bring in data and define number of trades\n",
    "nTrades_mini = 100 # minimal number of trades we want over the test set: this is for second approach\n",
    "\n",
    "trainset_final = pd.read_csv('./Data/TrainSet_final_stoploss{}_takeprofit{}.csv'.format(stoploss, takeprofit))\n",
    "trainset = pd.read_csv('./Data/TrainSet_stoploss{}_takeprofit{}.csv'.format(stoploss, takeprofit))\n",
    "\n",
    "validation_set_final = pd.read_csv('./Data/ValidationSet_final_stoploss{}_takeprofit{}.csv'.format(stoploss, takeprofit))\n",
    "validation_set = pd.read_csv('./Data/ValidationSet_stoploss{}_takeprofit{}.csv'.format(stoploss, takeprofit))\n",
    "\n",
    "testset_final = pd.read_csv('./Data/TestSet_final_stoploss{}_takeprofit{}.csv'.format(stoploss, takeprofit))\n",
    "testset = pd.read_csv('./Data/TestSet_stoploss{}_takeprofit{}.csv'.format(stoploss, takeprofit))"
   ]
  },
  {
   "cell_type": "code",
   "execution_count": 3,
   "metadata": {},
   "outputs": [],
   "source": [
    "# compute wins and losses\n",
    "def compute_earnings_loss(stoploss, takeprofit, fees):\n",
    "    # Compute earnings and losses\n",
    "    win = (1-fees)*(1+takeprofit)*(1-fees) -1\n",
    "    loss = (1-fees)*(1-stoploss)*(1-fees) -1\n",
    "    return(win, loss)"
   ]
  },
  {
   "cell_type": "code",
   "execution_count": 4,
   "metadata": {},
   "outputs": [],
   "source": [
    "def predict_and_backtest_bullish(df, df_final, model, stoploss, takeprofit, fees, plotting = True):\n",
    "    # Compute predictions on testset\n",
    "    df['preds'] = (clf.predict(df_final.iloc[:, :nPCs]) > 0.5)*1\n",
    "    df['proba1'] = clf.predict(df_final.iloc[:, :nPCs])\n",
    "\n",
    "    # keep only the timesteps in which the model predicts a bullish trend\n",
    "    testset1 = df[df['preds'] == 1].copy()\n",
    "\n",
    "    # Compute earnings column\n",
    "    a = compute_earnings_loss(stoploss, takeprofit, fees)\n",
    "    testset1['EarningsBullish'] = (testset1['preds'] == testset1['result'])*a[0] + (testset1['preds'] != testset1['result'])*a[1]\n",
    "\n",
    "    if plotting:\n",
    "        # Now plot our trading strategy\n",
    "        plt.plot(pd.to_datetime(testset1['date']), np.cumsum(testset1['EarningsBullish']))\n",
    "        plt.title('Approach over the test set \\n ROI = {} %'.format(100*np.mean(testset1['EarningsBullish'])))\n",
    "        plt.xlabel('Date')\n",
    "        plt.xlabel('Cumulative Earnings')\n",
    "        plt.show()\n",
    "\n",
    "        # Display the entry points\n",
    "        plt.plot(pd.to_datetime(df['date']), df['close'])\n",
    "        plt.scatter(pd.to_datetime(testset1['date']), testset1['close'], c = (testset1['EarningsBullish']>0))\n",
    "        plt.title('Entry points \\n Yellow = Win, Blue = Loss')\n",
    "        plt.show()\n",
    "\n",
    "    return(testset1)"
   ]
  },
  {
   "cell_type": "code",
   "execution_count": null,
   "metadata": {},
   "outputs": [],
   "source": []
  }
 ],
 "metadata": {
  "kernelspec": {
   "display_name": "Python 3",
   "language": "python",
   "name": "python3"
  },
  "language_info": {
   "codemirror_mode": {
    "name": "ipython",
    "version": 3
   },
   "file_extension": ".py",
   "mimetype": "text/x-python",
   "name": "python",
   "nbconvert_exporter": "python",
   "pygments_lexer": "ipython3",
   "version": "3.7.9"
  }
 },
 "nbformat": 4,
 "nbformat_minor": 5
}
