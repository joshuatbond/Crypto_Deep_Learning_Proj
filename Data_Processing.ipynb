{
 "metadata": {
  "language_info": {
   "codemirror_mode": {
    "name": "ipython",
    "version": 3
   },
   "file_extension": ".py",
   "mimetype": "text/x-python",
   "name": "python",
   "nbconvert_exporter": "python",
   "pygments_lexer": "ipython3",
   "version": "3.7.9-final"
  },
  "orig_nbformat": 2,
  "kernelspec": {
   "name": "python379jvsc74a57bd04cb5ea3394bfdc6abf1cba6e6023a5136a123bd60d92a96eabaf849483bfdf79",
   "display_name": "Python 3.7.9 64-bit ('dev': conda)"
  }
 },
 "nbformat": 4,
 "nbformat_minor": 2,
 "cells": [
  {
   "cell_type": "code",
   "execution_count": 1,
   "metadata": {},
   "outputs": [
    {
     "output_type": "stream",
     "name": "stderr",
     "text": [
      "\nBad key \"text.kerning_factor\" on line 4 in\nC:\\Users\\Josh Bond\\Anaconda3\\envs\\dev\\lib\\site-packages\\matplotlib\\mpl-data\\stylelib\\_classic_test_patch.mplstyle.\nYou probably need to get an updated matplotlibrc file from\nhttp://github.com/matplotlib/matplotlib/blob/master/matplotlibrc.template\nor from the matplotlib source distribution\n"
     ]
    }
   ],
   "source": [
    "# Imports\n",
    "import os\n",
    "import requests\n",
    "import pandas as pd\n",
    "import numpy as np\n",
    "import pickle as pk\n",
    "from sklearn.decomposition import PCA\n",
    "from sklearn.preprocessing import StandardScaler\n",
    "import matplotlib.pyplot as plt\n",
    "import ccxt\n",
    "import time\n",
    "from dotenv import load_dotenv\n",
    "from alpha_vantage.techindicators import TechIndicators\n",
    "from alpha_vantage.cryptocurrencies import CryptoCurrencies\n",
    "import csv\n",
    "import joblib"
   ]
  },
  {
   "cell_type": "code",
   "execution_count": 2,
   "metadata": {},
   "outputs": [
    {
     "output_type": "execute_result",
     "data": {
      "text/plain": [
       "True"
      ]
     },
     "metadata": {},
     "execution_count": 2
    }
   ],
   "source": [
    "load_dotenv()"
   ]
  },
  {
   "cell_type": "code",
   "execution_count": 3,
   "metadata": {},
   "outputs": [],
   "source": [
    "kraken_pub_key = os.getenv(\"KRAKEN_PUBLIC_KEY\")\n",
    "kraken_sec_key = os.getenv(\"KRAKEN_SECRET_KEY\")\n",
    "kraken = ccxt.kraken({\"apiKey\": kraken_pub_key, \"secret\": kraken_sec_key})\n",
    "\n",
    "av_key = os.getenv(\"ALPHAVANTAGE_API_KEY\")"
   ]
  },
  {
   "cell_type": "code",
   "execution_count": 4,
   "metadata": {},
   "outputs": [],
   "source": [
    "# btc_historical = pd.read_csv('./Data/btc_raw.csv')\n",
    "# btc_historical['Date'] = pd.to_datetime(btc_historical['Date'])\n",
    "# btc_historical_df = btc_historical[['Date','Open','High','Low','Close','Volume']]\n",
    "# btc_historical_df.rename(columns={'Date':'date','Open':'open','High':'high','Low':'low','Close':'close','Volume':'volume'}, inplace=True)\n",
    "# btc_historical_df = btc_historical_df.sort_values(by='date')\n",
    "# btc_historical_df.reset_index(inplace=True)\n",
    "# btc_historical_df.drop(columns='index', inplace=True)"
   ]
  },
  {
   "cell_type": "code",
   "execution_count": 5,
   "metadata": {},
   "outputs": [],
   "source": [
    "# Getting BTC data and setting columns and date\n",
    "btc_historical = kraken.fetch_ohlcv(\"BTC/USD\", '1d')\n",
    "btc_historical_df = pd.DataFrame(\n",
    "    btc_historical, \n",
    "    columns=['date','open','high','low','close','volume']\n",
    ")\n",
    "btc_historical_df['date'] = pd.to_datetime(btc_historical_df['date'], unit='ms')\n",
    "btc_historical_df = btc_historical_df.sort_values(by='date')"
   ]
  },
  {
   "cell_type": "code",
   "execution_count": 6,
   "metadata": {},
   "outputs": [],
   "source": [
    "if not os.path.exists('./Data'):\n",
    "    os.makedirs('./Data')\n",
    "if not os.path.exists('./Models'):\n",
    "    os.makedirs('./Models')\n",
    "if not os.path.exists('./Results'):\n",
    "    os.makedirs('./Results')"
   ]
  },
  {
   "cell_type": "code",
   "execution_count": 7,
   "metadata": {},
   "outputs": [],
   "source": [
    "# Defining functions\n",
    "def compute_ema(df, window, colname):\n",
    "    df[colname] = df['close'].ewm(halflife=window).mean()\n",
    "    return(df)\n",
    "\n",
    "\n",
    "def compute_rsi(df, window, colname):\n",
    "    series = df['close']\n",
    "    delta = series.diff().dropna()\n",
    "    u = delta * 0\n",
    "    d = u.copy()\n",
    "    u[delta > 0] = delta[delta > 0]\n",
    "    d[delta < 0] = -delta[delta < 0]\n",
    "    # first value is sum of avg gains\n",
    "    u[u.index[window - 1]] = np.mean(u[:window])\n",
    "    u = u.drop(u.index[:(window - 1)])\n",
    "    # first value is sum of avg losses\n",
    "    d[d.index[window - 1]] = np.mean(d[:window])\n",
    "    d = d.drop(d.index[:(window - 1)])\n",
    "    rs = u.ewm(com=window - 1,ignore_na=False,\n",
    "               min_periods=0,adjust=False).mean() / d.ewm(com=window - 1, ignore_na=False,\n",
    "                                            min_periods=0,adjust=False).mean()\n",
    "    df[colname] = 100 - 100 / (1 + rs)\n",
    "    df[colname].fillna(df[colname].mean(), inplace=True)\n",
    "    return(df)\n",
    "\n",
    "\n",
    "def jwwma(values, n):\n",
    "\n",
    "    # J. Welles Wilder's EMA \n",
    "    \n",
    "    return values.ewm(alpha=1/n, min_periods=n, adjust=False).mean()\n",
    "\n",
    "    \n",
    "def atr(df, n=14):\n",
    "    # The range of a day's trading is high-low. \n",
    "    dataframe = df.copy()\n",
    "    high = df['high']\n",
    "    low = df['low']\n",
    "    close = df['close']\n",
    "    dataframe['tr_1'] = abs(high - low)\n",
    "    dataframe['tr_2'] = abs(high - close.shift())\n",
    "    dataframe['tr_3'] = abs(low - close.shift())\n",
    "    # The average true range can be found by finding the \n",
    "    tr = dataframe[['tr_1', 'tr_2', 'tr_3']].max(axis=1)\n",
    "    atr = jwwma(tr, n)\n",
    "    return atr\n"
   ]
  },
  {
   "cell_type": "code",
   "execution_count": 8,
   "metadata": {},
   "outputs": [],
   "source": [
    "def compute_variables1(df):\n",
    "    print(\"Let's compute predictive variables : \")\n",
    "    df[\"date\"] = pd.to_datetime(df[\"date\"])\n",
    "    df['bodysize'] = df['close'] - df['open']\n",
    "    df['shadowsize'] = df['high'] - df['low']\n",
    "    for window in [8, 13, 21, 34, 55, 89, 144, 377]:\n",
    "        print(window)\n",
    "        df = compute_ema(df, window, colname = 'ema_{}'.format(window))\n",
    "        df = compute_rsi(df, window, colname = 'rsi_{}'.format(window))\n",
    "        df[\"Min_{}\".format(window)] = df[\"low\"].rolling(window).min()\n",
    "        df[\"Max_{}\".format(window)] = df[\"high\"].rolling(window).max()\n",
    "        df[\"volume_{}\".format(window)] = df[\"volume\"].rolling(window).mean()\n",
    "        df['percentChange_{}'.format(window)] = df['close'].pct_change(periods = window)\n",
    "        df['RelativeSize_ema_{}'.format(window)] = df['close'] / df['ema_{}'.format(window)]\n",
    "        df['Diff_{}'.format(window)] = df['close'].diff(window)\n",
    "    df['ATR(14)'] = atr(df, n=14)\n",
    "\n",
    "    # Add modulo 10, 100, 1000, 500, 50 (these variables help identify psychological support and resistance levels)\n",
    "    df[\"Modulo_10\"] = df[\"close\"].copy() % 10\n",
    "    df[\"Modulo_100\"] = df[\"close\"].copy() % 100\n",
    "    df[\"Modulo_1000\"] = df[\"close\"].copy() % 1000\n",
    "    df[\"Modulo_500\"] = df[\"close\"].copy() % 500\n",
    "    df[\"Modulo_50\"] = df[\"close\"].copy() % 50\n",
    "    \n",
    "    # Add weekday and day of the month\n",
    "    df[\"WeekDay\"] = df[\"date\"].dt.weekday\n",
    "    df[\"Day\"] = df[\"date\"].dt.day\n",
    "    df.dropna(inplace=True)\n",
    "    return(df)"
   ]
  },
  {
   "cell_type": "code",
   "execution_count": 9,
   "metadata": {},
   "outputs": [
    {
     "output_type": "stream",
     "name": "stdout",
     "text": [
      "Let's compute predictive variables : \n",
      "8\n",
      "13\n",
      "21\n",
      "34\n",
      "55\n",
      "89\n",
      "144\n",
      "377\n"
     ]
    }
   ],
   "source": [
    "df = compute_variables1(btc_historical_df)"
   ]
  },
  {
   "cell_type": "code",
   "execution_count": 10,
   "metadata": {},
   "outputs": [],
   "source": [
    "df.to_csv('./Data/Datasetwithvariables.csv', index=False)"
   ]
  },
  {
   "cell_type": "code",
   "execution_count": 11,
   "metadata": {},
   "outputs": [],
   "source": [
    "takeprofit = .12\n",
    "stoploss = .05"
   ]
  },
  {
   "cell_type": "code",
   "execution_count": 12,
   "metadata": {},
   "outputs": [],
   "source": [
    "def check_outcome(df, line, stoploss, takeprofit):\n",
    "    '''0 means we reached stoploss\n",
    "    1 means we reached takeprofit\n",
    "    -1 means still in between'''\n",
    "    price0 = df[\"close\"].iloc[line]\n",
    "    upper_lim = price0*(1+takeprofit)\n",
    "    down_lim = price0*(1-stoploss)\n",
    "    for i in range(line, df[\"close\"].size):\n",
    "        if df[\"low\"].iloc[i] < down_lim :\n",
    "            return(0)\n",
    "        elif df[\"high\"].iloc[i] > upper_lim :\n",
    "            return(1)\n",
    "    return(-1)\n",
    "\n",
    "def compute_result(df, stoploss, takeprofit):\n",
    "    df['result'] = 0\n",
    "    for i in range(df[\"close\"].size):\n",
    "        if i%500 == 0:\n",
    "            print(i, '/', df.shape[0])\n",
    "        df['result'].iloc[i] = check_outcome(df, i, stoploss, takeprofit)\n",
    "    return(df)"
   ]
  },
  {
   "cell_type": "code",
   "execution_count": 13,
   "metadata": {},
   "outputs": [
    {
     "output_type": "stream",
     "name": "stdout",
     "text": [
      "0 / 343\n",
      "C:\\Users\\Josh Bond\\Anaconda3\\envs\\dev\\lib\\site-packages\\pandas\\core\\indexing.py:190: SettingWithCopyWarning: \n",
      "A value is trying to be set on a copy of a slice from a DataFrame\n",
      "\n",
      "See the caveats in the documentation: http://pandas.pydata.org/pandas-docs/stable/indexing.html#indexing-view-versus-copy\n",
      "  self._setitem_with_indexer(indexer, value)\n"
     ]
    }
   ],
   "source": [
    "df = compute_result(df, stoploss, takeprofit)\n",
    "df = df[df['result']>=0] # Only keep observations where we also have the result\n",
    "df.to_csv('./Data/DatasetwithvariablesandY_SL{}_TP{}.csv'.format(stoploss, takeprofit), index = False)"
   ]
  },
  {
   "cell_type": "code",
   "execution_count": 14,
   "metadata": {},
   "outputs": [
    {
     "output_type": "execute_result",
     "data": {
      "text/plain": [
       "          date    open    high     low   close        volume  bodysize  \\\n",
       "377 2020-05-14  9317.1  9947.0  9256.9  9788.5  12966.020534     471.4   \n",
       "378 2020-05-15  9788.5  9847.1  9128.0  9312.1  11082.915586    -476.4   \n",
       "379 2020-05-16  9310.5  9590.0  9221.1  9386.0   4905.165281      75.5   \n",
       "380 2020-05-17  9379.3  9888.0  9317.1  9673.0   6998.249638     293.7   \n",
       "381 2020-05-18  9675.6  9948.3  9400.0  9725.3   8025.347634      49.7   \n",
       "\n",
       "     shadowsize        ema_8      rsi_8  ...  Diff_377     ATR(14)  Modulo_10  \\\n",
       "377       690.1  8685.455613  67.087895  ...    4128.5  584.236982        8.5   \n",
       "378       719.1  8737.464563  55.840510  ...    3548.6  593.870055        2.1   \n",
       "379       368.9  8791.290382  57.115117  ...    3666.7  577.800765        6.0   \n",
       "380       570.9  8864.468716  61.985180  ...    3985.6  577.307854        3.0   \n",
       "381       548.3  8935.914232  62.863480  ...    3980.1  575.235864        5.3   \n",
       "\n",
       "     Modulo_100  Modulo_1000  Modulo_500  Modulo_50  WeekDay  Day  result  \n",
       "377        88.5        788.5       288.5       38.5        3   14       0  \n",
       "378        12.1        312.1       312.1       12.1        4   15       0  \n",
       "379        86.0        386.0       386.0       36.0        5   16       0  \n",
       "380        73.0        673.0       173.0       23.0        6   17       0  \n",
       "381        25.3        725.3       225.3       25.3        0   18       0  \n",
       "\n",
       "[5 rows x 81 columns]"
      ],
      "text/html": "<div>\n<style scoped>\n    .dataframe tbody tr th:only-of-type {\n        vertical-align: middle;\n    }\n\n    .dataframe tbody tr th {\n        vertical-align: top;\n    }\n\n    .dataframe thead th {\n        text-align: right;\n    }\n</style>\n<table border=\"1\" class=\"dataframe\">\n  <thead>\n    <tr style=\"text-align: right;\">\n      <th></th>\n      <th>date</th>\n      <th>open</th>\n      <th>high</th>\n      <th>low</th>\n      <th>close</th>\n      <th>volume</th>\n      <th>bodysize</th>\n      <th>shadowsize</th>\n      <th>ema_8</th>\n      <th>rsi_8</th>\n      <th>...</th>\n      <th>Diff_377</th>\n      <th>ATR(14)</th>\n      <th>Modulo_10</th>\n      <th>Modulo_100</th>\n      <th>Modulo_1000</th>\n      <th>Modulo_500</th>\n      <th>Modulo_50</th>\n      <th>WeekDay</th>\n      <th>Day</th>\n      <th>result</th>\n    </tr>\n  </thead>\n  <tbody>\n    <tr>\n      <th>377</th>\n      <td>2020-05-14</td>\n      <td>9317.1</td>\n      <td>9947.0</td>\n      <td>9256.9</td>\n      <td>9788.5</td>\n      <td>12966.020534</td>\n      <td>471.4</td>\n      <td>690.1</td>\n      <td>8685.455613</td>\n      <td>67.087895</td>\n      <td>...</td>\n      <td>4128.5</td>\n      <td>584.236982</td>\n      <td>8.5</td>\n      <td>88.5</td>\n      <td>788.5</td>\n      <td>288.5</td>\n      <td>38.5</td>\n      <td>3</td>\n      <td>14</td>\n      <td>0</td>\n    </tr>\n    <tr>\n      <th>378</th>\n      <td>2020-05-15</td>\n      <td>9788.5</td>\n      <td>9847.1</td>\n      <td>9128.0</td>\n      <td>9312.1</td>\n      <td>11082.915586</td>\n      <td>-476.4</td>\n      <td>719.1</td>\n      <td>8737.464563</td>\n      <td>55.840510</td>\n      <td>...</td>\n      <td>3548.6</td>\n      <td>593.870055</td>\n      <td>2.1</td>\n      <td>12.1</td>\n      <td>312.1</td>\n      <td>312.1</td>\n      <td>12.1</td>\n      <td>4</td>\n      <td>15</td>\n      <td>0</td>\n    </tr>\n    <tr>\n      <th>379</th>\n      <td>2020-05-16</td>\n      <td>9310.5</td>\n      <td>9590.0</td>\n      <td>9221.1</td>\n      <td>9386.0</td>\n      <td>4905.165281</td>\n      <td>75.5</td>\n      <td>368.9</td>\n      <td>8791.290382</td>\n      <td>57.115117</td>\n      <td>...</td>\n      <td>3666.7</td>\n      <td>577.800765</td>\n      <td>6.0</td>\n      <td>86.0</td>\n      <td>386.0</td>\n      <td>386.0</td>\n      <td>36.0</td>\n      <td>5</td>\n      <td>16</td>\n      <td>0</td>\n    </tr>\n    <tr>\n      <th>380</th>\n      <td>2020-05-17</td>\n      <td>9379.3</td>\n      <td>9888.0</td>\n      <td>9317.1</td>\n      <td>9673.0</td>\n      <td>6998.249638</td>\n      <td>293.7</td>\n      <td>570.9</td>\n      <td>8864.468716</td>\n      <td>61.985180</td>\n      <td>...</td>\n      <td>3985.6</td>\n      <td>577.307854</td>\n      <td>3.0</td>\n      <td>73.0</td>\n      <td>673.0</td>\n      <td>173.0</td>\n      <td>23.0</td>\n      <td>6</td>\n      <td>17</td>\n      <td>0</td>\n    </tr>\n    <tr>\n      <th>381</th>\n      <td>2020-05-18</td>\n      <td>9675.6</td>\n      <td>9948.3</td>\n      <td>9400.0</td>\n      <td>9725.3</td>\n      <td>8025.347634</td>\n      <td>49.7</td>\n      <td>548.3</td>\n      <td>8935.914232</td>\n      <td>62.863480</td>\n      <td>...</td>\n      <td>3980.1</td>\n      <td>575.235864</td>\n      <td>5.3</td>\n      <td>25.3</td>\n      <td>725.3</td>\n      <td>225.3</td>\n      <td>25.3</td>\n      <td>0</td>\n      <td>18</td>\n      <td>0</td>\n    </tr>\n  </tbody>\n</table>\n<p>5 rows × 81 columns</p>\n</div>"
     },
     "metadata": {},
     "execution_count": 14
    }
   ],
   "source": [
    "df.head()"
   ]
  },
  {
   "cell_type": "code",
   "execution_count": 15,
   "metadata": {},
   "outputs": [
    {
     "output_type": "execute_result",
     "data": {
      "text/plain": [
       "0    198\n",
       "1    143\n",
       "Name: result, dtype: int64"
      ]
     },
     "metadata": {},
     "execution_count": 15
    }
   ],
   "source": [
    "df['result'].value_counts()"
   ]
  },
  {
   "cell_type": "code",
   "execution_count": 16,
   "metadata": {},
   "outputs": [],
   "source": [
    "# Define the trainset, validation set, testset\n",
    "split1 = int(.65*len(df))\n",
    "\n",
    "trainset = df[:split1]\n",
    "val_test = df[split1:]\n",
    "\n",
    "split2 = int(.5*len(val_test))\n",
    "\n",
    "validation_set = val_test[:split2]\n",
    "testset = val_test[split2:]"
   ]
  },
  {
   "cell_type": "code",
   "execution_count": 17,
   "metadata": {},
   "outputs": [],
   "source": [
    "trainset.to_csv('./Data/Trainset_SL{}_TP{}.csv'.format(stoploss, takeprofit), index=False)\n",
    "validation_set.to_csv('./Data/Validationset_SL{}_TP{}.csv'.format(stoploss, takeprofit), index=False)\n",
    "testset.to_csv('./Data/Testset_SL{}_TP{}.csv'.format(stoploss, takeprofit), index=False)"
   ]
  },
  {
   "cell_type": "code",
   "execution_count": 18,
   "metadata": {},
   "outputs": [
    {
     "output_type": "stream",
     "name": "stderr",
     "text": [
      "C:\\Users\\Josh Bond\\Anaconda3\\envs\\dev\\lib\\site-packages\\pandas\\plotting\\_converter.py:129: FutureWarning: Using an implicitly registered datetime converter for a matplotlib plotting method. The converter was registered by pandas on import. Future versions of pandas will require you to explicitly register matplotlib converters.\n\nTo register the converters:\n\t>>> from pandas.plotting import register_matplotlib_converters\n\t>>> register_matplotlib_converters()\n  warnings.warn(msg, FutureWarning)\n"
     ]
    },
    {
     "output_type": "display_data",
     "data": {
      "text/plain": "<Figure size 432x288 with 1 Axes>",
      "image/svg+xml": "<?xml version=\"1.0\" encoding=\"utf-8\" standalone=\"no\"?>\r\n<!DOCTYPE svg PUBLIC \"-//W3C//DTD SVG 1.1//EN\"\r\n  \"http://www.w3.org/Graphics/SVG/1.1/DTD/svg11.dtd\">\r\n<!-- Created with matplotlib (https://matplotlib.org/) -->\r\n<svg height=\"263.63625pt\" version=\"1.1\" viewBox=\"0 0 403.503906 263.63625\" width=\"403.503906pt\" xmlns=\"http://www.w3.org/2000/svg\" xmlns:xlink=\"http://www.w3.org/1999/xlink\">\r\n <defs>\r\n  <style type=\"text/css\">\r\n*{stroke-linecap:butt;stroke-linejoin:round;}\r\n  </style>\r\n </defs>\r\n <g id=\"figure_1\">\r\n  <g id=\"patch_1\">\r\n   <path d=\"M 0 263.63625 \r\nL 403.503906 263.63625 \r\nL 403.503906 0 \r\nL 0 0 \r\nz\r\n\" style=\"fill:none;\"/>\r\n  </g>\r\n  <g id=\"axes_1\">\r\n   <g id=\"patch_2\">\r\n    <path d=\"M 46.0125 239.758125 \r\nL 380.8125 239.758125 \r\nL 380.8125 22.318125 \r\nL 46.0125 22.318125 \r\nz\r\n\" style=\"fill:#ffffff;\"/>\r\n   </g>\r\n   <g id=\"matplotlib.axis_1\">\r\n    <g id=\"xtick_1\">\r\n     <g id=\"line2d_1\">\r\n      <defs>\r\n       <path d=\"M 0 0 \r\nL 0 3.5 \r\n\" id=\"m8d2596dd28\" style=\"stroke:#000000;stroke-width:0.8;\"/>\r\n      </defs>\r\n      <g>\r\n       <use style=\"stroke:#000000;stroke-width:0.8;\" x=\"49.627376\" xlink:href=\"#m8d2596dd28\" y=\"239.758125\"/>\r\n      </g>\r\n     </g>\r\n     <g id=\"text_1\">\r\n      <!-- 2020-05 -->\r\n      <defs>\r\n       <path d=\"M 19.1875 8.296875 \r\nL 53.609375 8.296875 \r\nL 53.609375 0 \r\nL 7.328125 0 \r\nL 7.328125 8.296875 \r\nQ 12.9375 14.109375 22.625 23.890625 \r\nQ 32.328125 33.6875 34.8125 36.53125 \r\nQ 39.546875 41.84375 41.421875 45.53125 \r\nQ 43.3125 49.21875 43.3125 52.78125 \r\nQ 43.3125 58.59375 39.234375 62.25 \r\nQ 35.15625 65.921875 28.609375 65.921875 \r\nQ 23.96875 65.921875 18.8125 64.3125 \r\nQ 13.671875 62.703125 7.8125 59.421875 \r\nL 7.8125 69.390625 \r\nQ 13.765625 71.78125 18.9375 73 \r\nQ 24.125 74.21875 28.421875 74.21875 \r\nQ 39.75 74.21875 46.484375 68.546875 \r\nQ 53.21875 62.890625 53.21875 53.421875 \r\nQ 53.21875 48.921875 51.53125 44.890625 \r\nQ 49.859375 40.875 45.40625 35.40625 \r\nQ 44.1875 33.984375 37.640625 27.21875 \r\nQ 31.109375 20.453125 19.1875 8.296875 \r\nz\r\n\" id=\"DejaVuSans-50\"/>\r\n       <path d=\"M 31.78125 66.40625 \r\nQ 24.171875 66.40625 20.328125 58.90625 \r\nQ 16.5 51.421875 16.5 36.375 \r\nQ 16.5 21.390625 20.328125 13.890625 \r\nQ 24.171875 6.390625 31.78125 6.390625 \r\nQ 39.453125 6.390625 43.28125 13.890625 \r\nQ 47.125 21.390625 47.125 36.375 \r\nQ 47.125 51.421875 43.28125 58.90625 \r\nQ 39.453125 66.40625 31.78125 66.40625 \r\nz\r\nM 31.78125 74.21875 \r\nQ 44.046875 74.21875 50.515625 64.515625 \r\nQ 56.984375 54.828125 56.984375 36.375 \r\nQ 56.984375 17.96875 50.515625 8.265625 \r\nQ 44.046875 -1.421875 31.78125 -1.421875 \r\nQ 19.53125 -1.421875 13.0625 8.265625 \r\nQ 6.59375 17.96875 6.59375 36.375 \r\nQ 6.59375 54.828125 13.0625 64.515625 \r\nQ 19.53125 74.21875 31.78125 74.21875 \r\nz\r\n\" id=\"DejaVuSans-48\"/>\r\n       <path d=\"M 4.890625 31.390625 \r\nL 31.203125 31.390625 \r\nL 31.203125 23.390625 \r\nL 4.890625 23.390625 \r\nz\r\n\" id=\"DejaVuSans-45\"/>\r\n       <path d=\"M 10.796875 72.90625 \r\nL 49.515625 72.90625 \r\nL 49.515625 64.59375 \r\nL 19.828125 64.59375 \r\nL 19.828125 46.734375 \r\nQ 21.96875 47.46875 24.109375 47.828125 \r\nQ 26.265625 48.1875 28.421875 48.1875 \r\nQ 40.625 48.1875 47.75 41.5 \r\nQ 54.890625 34.8125 54.890625 23.390625 \r\nQ 54.890625 11.625 47.5625 5.09375 \r\nQ 40.234375 -1.421875 26.90625 -1.421875 \r\nQ 22.3125 -1.421875 17.546875 -0.640625 \r\nQ 12.796875 0.140625 7.71875 1.703125 \r\nL 7.71875 11.625 \r\nQ 12.109375 9.234375 16.796875 8.0625 \r\nQ 21.484375 6.890625 26.703125 6.890625 \r\nQ 35.15625 6.890625 40.078125 11.328125 \r\nQ 45.015625 15.765625 45.015625 23.390625 \r\nQ 45.015625 31 40.078125 35.4375 \r\nQ 35.15625 39.890625 26.703125 39.890625 \r\nQ 22.75 39.890625 18.8125 39.015625 \r\nQ 14.890625 38.140625 10.796875 36.28125 \r\nz\r\n\" id=\"DejaVuSans-53\"/>\r\n      </defs>\r\n      <g transform=\"translate(28.73597 254.356563)scale(0.1 -0.1)\">\r\n       <use xlink:href=\"#DejaVuSans-50\"/>\r\n       <use x=\"63.623047\" xlink:href=\"#DejaVuSans-48\"/>\r\n       <use x=\"127.246094\" xlink:href=\"#DejaVuSans-50\"/>\r\n       <use x=\"190.869141\" xlink:href=\"#DejaVuSans-48\"/>\r\n       <use x=\"254.492188\" xlink:href=\"#DejaVuSans-45\"/>\r\n       <use x=\"290.576172\" xlink:href=\"#DejaVuSans-48\"/>\r\n       <use x=\"354.199219\" xlink:href=\"#DejaVuSans-53\"/>\r\n      </g>\r\n     </g>\r\n    </g>\r\n    <g id=\"xtick_2\">\r\n     <g id=\"line2d_2\">\r\n      <g>\r\n       <use style=\"stroke:#000000;stroke-width:0.8;\" x=\"104.073657\" xlink:href=\"#m8d2596dd28\" y=\"239.758125\"/>\r\n      </g>\r\n     </g>\r\n     <g id=\"text_2\">\r\n      <!-- 2020-07 -->\r\n      <defs>\r\n       <path d=\"M 8.203125 72.90625 \r\nL 55.078125 72.90625 \r\nL 55.078125 68.703125 \r\nL 28.609375 0 \r\nL 18.3125 0 \r\nL 43.21875 64.59375 \r\nL 8.203125 64.59375 \r\nz\r\n\" id=\"DejaVuSans-55\"/>\r\n      </defs>\r\n      <g transform=\"translate(83.182251 254.356563)scale(0.1 -0.1)\">\r\n       <use xlink:href=\"#DejaVuSans-50\"/>\r\n       <use x=\"63.623047\" xlink:href=\"#DejaVuSans-48\"/>\r\n       <use x=\"127.246094\" xlink:href=\"#DejaVuSans-50\"/>\r\n       <use x=\"190.869141\" xlink:href=\"#DejaVuSans-48\"/>\r\n       <use x=\"254.492188\" xlink:href=\"#DejaVuSans-45\"/>\r\n       <use x=\"290.576172\" xlink:href=\"#DejaVuSans-48\"/>\r\n       <use x=\"354.199219\" xlink:href=\"#DejaVuSans-55\"/>\r\n      </g>\r\n     </g>\r\n    </g>\r\n    <g id=\"xtick_3\">\r\n     <g id=\"line2d_3\">\r\n      <g>\r\n       <use style=\"stroke:#000000;stroke-width:0.8;\" x=\"159.4125\" xlink:href=\"#m8d2596dd28\" y=\"239.758125\"/>\r\n      </g>\r\n     </g>\r\n     <g id=\"text_3\">\r\n      <!-- 2020-09 -->\r\n      <defs>\r\n       <path d=\"M 10.984375 1.515625 \r\nL 10.984375 10.5 \r\nQ 14.703125 8.734375 18.5 7.8125 \r\nQ 22.3125 6.890625 25.984375 6.890625 \r\nQ 35.75 6.890625 40.890625 13.453125 \r\nQ 46.046875 20.015625 46.78125 33.40625 \r\nQ 43.953125 29.203125 39.59375 26.953125 \r\nQ 35.25 24.703125 29.984375 24.703125 \r\nQ 19.046875 24.703125 12.671875 31.3125 \r\nQ 6.296875 37.9375 6.296875 49.421875 \r\nQ 6.296875 60.640625 12.9375 67.421875 \r\nQ 19.578125 74.21875 30.609375 74.21875 \r\nQ 43.265625 74.21875 49.921875 64.515625 \r\nQ 56.59375 54.828125 56.59375 36.375 \r\nQ 56.59375 19.140625 48.40625 8.859375 \r\nQ 40.234375 -1.421875 26.421875 -1.421875 \r\nQ 22.703125 -1.421875 18.890625 -0.6875 \r\nQ 15.09375 0.046875 10.984375 1.515625 \r\nz\r\nM 30.609375 32.421875 \r\nQ 37.25 32.421875 41.125 36.953125 \r\nQ 45.015625 41.5 45.015625 49.421875 \r\nQ 45.015625 57.28125 41.125 61.84375 \r\nQ 37.25 66.40625 30.609375 66.40625 \r\nQ 23.96875 66.40625 20.09375 61.84375 \r\nQ 16.21875 57.28125 16.21875 49.421875 \r\nQ 16.21875 41.5 20.09375 36.953125 \r\nQ 23.96875 32.421875 30.609375 32.421875 \r\nz\r\n\" id=\"DejaVuSans-57\"/>\r\n      </defs>\r\n      <g transform=\"translate(138.521094 254.356563)scale(0.1 -0.1)\">\r\n       <use xlink:href=\"#DejaVuSans-50\"/>\r\n       <use x=\"63.623047\" xlink:href=\"#DejaVuSans-48\"/>\r\n       <use x=\"127.246094\" xlink:href=\"#DejaVuSans-50\"/>\r\n       <use x=\"190.869141\" xlink:href=\"#DejaVuSans-48\"/>\r\n       <use x=\"254.492188\" xlink:href=\"#DejaVuSans-45\"/>\r\n       <use x=\"290.576172\" xlink:href=\"#DejaVuSans-48\"/>\r\n       <use x=\"354.199219\" xlink:href=\"#DejaVuSans-57\"/>\r\n      </g>\r\n     </g>\r\n    </g>\r\n    <g id=\"xtick_4\">\r\n     <g id=\"line2d_4\">\r\n      <g>\r\n       <use style=\"stroke:#000000;stroke-width:0.8;\" x=\"213.858781\" xlink:href=\"#m8d2596dd28\" y=\"239.758125\"/>\r\n      </g>\r\n     </g>\r\n     <g id=\"text_4\">\r\n      <!-- 2020-11 -->\r\n      <defs>\r\n       <path d=\"M 12.40625 8.296875 \r\nL 28.515625 8.296875 \r\nL 28.515625 63.921875 \r\nL 10.984375 60.40625 \r\nL 10.984375 69.390625 \r\nL 28.421875 72.90625 \r\nL 38.28125 72.90625 \r\nL 38.28125 8.296875 \r\nL 54.390625 8.296875 \r\nL 54.390625 0 \r\nL 12.40625 0 \r\nz\r\n\" id=\"DejaVuSans-49\"/>\r\n      </defs>\r\n      <g transform=\"translate(192.967375 254.356563)scale(0.1 -0.1)\">\r\n       <use xlink:href=\"#DejaVuSans-50\"/>\r\n       <use x=\"63.623047\" xlink:href=\"#DejaVuSans-48\"/>\r\n       <use x=\"127.246094\" xlink:href=\"#DejaVuSans-50\"/>\r\n       <use x=\"190.869141\" xlink:href=\"#DejaVuSans-48\"/>\r\n       <use x=\"254.492188\" xlink:href=\"#DejaVuSans-45\"/>\r\n       <use x=\"290.576172\" xlink:href=\"#DejaVuSans-49\"/>\r\n       <use x=\"354.199219\" xlink:href=\"#DejaVuSans-49\"/>\r\n      </g>\r\n     </g>\r\n    </g>\r\n    <g id=\"xtick_5\">\r\n     <g id=\"line2d_5\">\r\n      <g>\r\n       <use style=\"stroke:#000000;stroke-width:0.8;\" x=\"268.305062\" xlink:href=\"#m8d2596dd28\" y=\"239.758125\"/>\r\n      </g>\r\n     </g>\r\n     <g id=\"text_5\">\r\n      <!-- 2021-01 -->\r\n      <g transform=\"translate(247.413656 254.356563)scale(0.1 -0.1)\">\r\n       <use xlink:href=\"#DejaVuSans-50\"/>\r\n       <use x=\"63.623047\" xlink:href=\"#DejaVuSans-48\"/>\r\n       <use x=\"127.246094\" xlink:href=\"#DejaVuSans-50\"/>\r\n       <use x=\"190.869141\" xlink:href=\"#DejaVuSans-49\"/>\r\n       <use x=\"254.492188\" xlink:href=\"#DejaVuSans-45\"/>\r\n       <use x=\"290.576172\" xlink:href=\"#DejaVuSans-48\"/>\r\n       <use x=\"354.199219\" xlink:href=\"#DejaVuSans-49\"/>\r\n      </g>\r\n     </g>\r\n    </g>\r\n    <g id=\"xtick_6\">\r\n     <g id=\"line2d_6\">\r\n      <g>\r\n       <use style=\"stroke:#000000;stroke-width:0.8;\" x=\"320.966219\" xlink:href=\"#m8d2596dd28\" y=\"239.758125\"/>\r\n      </g>\r\n     </g>\r\n     <g id=\"text_6\">\r\n      <!-- 2021-03 -->\r\n      <defs>\r\n       <path d=\"M 40.578125 39.3125 \r\nQ 47.65625 37.796875 51.625 33 \r\nQ 55.609375 28.21875 55.609375 21.1875 \r\nQ 55.609375 10.40625 48.1875 4.484375 \r\nQ 40.765625 -1.421875 27.09375 -1.421875 \r\nQ 22.515625 -1.421875 17.65625 -0.515625 \r\nQ 12.796875 0.390625 7.625 2.203125 \r\nL 7.625 11.71875 \r\nQ 11.71875 9.328125 16.59375 8.109375 \r\nQ 21.484375 6.890625 26.8125 6.890625 \r\nQ 36.078125 6.890625 40.9375 10.546875 \r\nQ 45.796875 14.203125 45.796875 21.1875 \r\nQ 45.796875 27.640625 41.28125 31.265625 \r\nQ 36.765625 34.90625 28.71875 34.90625 \r\nL 20.21875 34.90625 \r\nL 20.21875 43.015625 \r\nL 29.109375 43.015625 \r\nQ 36.375 43.015625 40.234375 45.921875 \r\nQ 44.09375 48.828125 44.09375 54.296875 \r\nQ 44.09375 59.90625 40.109375 62.90625 \r\nQ 36.140625 65.921875 28.71875 65.921875 \r\nQ 24.65625 65.921875 20.015625 65.03125 \r\nQ 15.375 64.15625 9.8125 62.3125 \r\nL 9.8125 71.09375 \r\nQ 15.4375 72.65625 20.34375 73.4375 \r\nQ 25.25 74.21875 29.59375 74.21875 \r\nQ 40.828125 74.21875 47.359375 69.109375 \r\nQ 53.90625 64.015625 53.90625 55.328125 \r\nQ 53.90625 49.265625 50.4375 45.09375 \r\nQ 46.96875 40.921875 40.578125 39.3125 \r\nz\r\n\" id=\"DejaVuSans-51\"/>\r\n      </defs>\r\n      <g transform=\"translate(300.074813 254.356563)scale(0.1 -0.1)\">\r\n       <use xlink:href=\"#DejaVuSans-50\"/>\r\n       <use x=\"63.623047\" xlink:href=\"#DejaVuSans-48\"/>\r\n       <use x=\"127.246094\" xlink:href=\"#DejaVuSans-50\"/>\r\n       <use x=\"190.869141\" xlink:href=\"#DejaVuSans-49\"/>\r\n       <use x=\"254.492188\" xlink:href=\"#DejaVuSans-45\"/>\r\n       <use x=\"290.576172\" xlink:href=\"#DejaVuSans-48\"/>\r\n       <use x=\"354.199219\" xlink:href=\"#DejaVuSans-51\"/>\r\n      </g>\r\n     </g>\r\n    </g>\r\n    <g id=\"xtick_7\">\r\n     <g id=\"line2d_7\">\r\n      <g>\r\n       <use style=\"stroke:#000000;stroke-width:0.8;\" x=\"375.4125\" xlink:href=\"#m8d2596dd28\" y=\"239.758125\"/>\r\n      </g>\r\n     </g>\r\n     <g id=\"text_7\">\r\n      <!-- 2021-05 -->\r\n      <g transform=\"translate(354.521094 254.356563)scale(0.1 -0.1)\">\r\n       <use xlink:href=\"#DejaVuSans-50\"/>\r\n       <use x=\"63.623047\" xlink:href=\"#DejaVuSans-48\"/>\r\n       <use x=\"127.246094\" xlink:href=\"#DejaVuSans-50\"/>\r\n       <use x=\"190.869141\" xlink:href=\"#DejaVuSans-49\"/>\r\n       <use x=\"254.492188\" xlink:href=\"#DejaVuSans-45\"/>\r\n       <use x=\"290.576172\" xlink:href=\"#DejaVuSans-48\"/>\r\n       <use x=\"354.199219\" xlink:href=\"#DejaVuSans-53\"/>\r\n      </g>\r\n     </g>\r\n    </g>\r\n   </g>\r\n   <g id=\"matplotlib.axis_2\">\r\n    <g id=\"ytick_1\">\r\n     <g id=\"line2d_8\">\r\n      <defs>\r\n       <path d=\"M 0 0 \r\nL -3.5 0 \r\n\" id=\"m10a379bec7\" style=\"stroke:#000000;stroke-width:0.8;\"/>\r\n      </defs>\r\n      <g>\r\n       <use style=\"stroke:#000000;stroke-width:0.8;\" x=\"46.0125\" xlink:href=\"#m10a379bec7\" y=\"225.24573\"/>\r\n      </g>\r\n     </g>\r\n     <g id=\"text_8\">\r\n      <!-- 10000 -->\r\n      <g transform=\"translate(7.2 229.044949)scale(0.1 -0.1)\">\r\n       <use xlink:href=\"#DejaVuSans-49\"/>\r\n       <use x=\"63.623047\" xlink:href=\"#DejaVuSans-48\"/>\r\n       <use x=\"127.246094\" xlink:href=\"#DejaVuSans-48\"/>\r\n       <use x=\"190.869141\" xlink:href=\"#DejaVuSans-48\"/>\r\n       <use x=\"254.492188\" xlink:href=\"#DejaVuSans-48\"/>\r\n      </g>\r\n     </g>\r\n    </g>\r\n    <g id=\"ytick_2\">\r\n     <g id=\"line2d_9\">\r\n      <g>\r\n       <use style=\"stroke:#000000;stroke-width:0.8;\" x=\"46.0125\" xlink:href=\"#m10a379bec7\" y=\"189.221462\"/>\r\n      </g>\r\n     </g>\r\n     <g id=\"text_9\">\r\n      <!-- 20000 -->\r\n      <g transform=\"translate(7.2 193.02068)scale(0.1 -0.1)\">\r\n       <use xlink:href=\"#DejaVuSans-50\"/>\r\n       <use x=\"63.623047\" xlink:href=\"#DejaVuSans-48\"/>\r\n       <use x=\"127.246094\" xlink:href=\"#DejaVuSans-48\"/>\r\n       <use x=\"190.869141\" xlink:href=\"#DejaVuSans-48\"/>\r\n       <use x=\"254.492188\" xlink:href=\"#DejaVuSans-48\"/>\r\n      </g>\r\n     </g>\r\n    </g>\r\n    <g id=\"ytick_3\">\r\n     <g id=\"line2d_10\">\r\n      <g>\r\n       <use style=\"stroke:#000000;stroke-width:0.8;\" x=\"46.0125\" xlink:href=\"#m10a379bec7\" y=\"153.197193\"/>\r\n      </g>\r\n     </g>\r\n     <g id=\"text_10\">\r\n      <!-- 30000 -->\r\n      <g transform=\"translate(7.2 156.996412)scale(0.1 -0.1)\">\r\n       <use xlink:href=\"#DejaVuSans-51\"/>\r\n       <use x=\"63.623047\" xlink:href=\"#DejaVuSans-48\"/>\r\n       <use x=\"127.246094\" xlink:href=\"#DejaVuSans-48\"/>\r\n       <use x=\"190.869141\" xlink:href=\"#DejaVuSans-48\"/>\r\n       <use x=\"254.492188\" xlink:href=\"#DejaVuSans-48\"/>\r\n      </g>\r\n     </g>\r\n    </g>\r\n    <g id=\"ytick_4\">\r\n     <g id=\"line2d_11\">\r\n      <g>\r\n       <use style=\"stroke:#000000;stroke-width:0.8;\" x=\"46.0125\" xlink:href=\"#m10a379bec7\" y=\"117.172924\"/>\r\n      </g>\r\n     </g>\r\n     <g id=\"text_11\">\r\n      <!-- 40000 -->\r\n      <defs>\r\n       <path d=\"M 37.796875 64.3125 \r\nL 12.890625 25.390625 \r\nL 37.796875 25.390625 \r\nz\r\nM 35.203125 72.90625 \r\nL 47.609375 72.90625 \r\nL 47.609375 25.390625 \r\nL 58.015625 25.390625 \r\nL 58.015625 17.1875 \r\nL 47.609375 17.1875 \r\nL 47.609375 0 \r\nL 37.796875 0 \r\nL 37.796875 17.1875 \r\nL 4.890625 17.1875 \r\nL 4.890625 26.703125 \r\nz\r\n\" id=\"DejaVuSans-52\"/>\r\n      </defs>\r\n      <g transform=\"translate(7.2 120.972143)scale(0.1 -0.1)\">\r\n       <use xlink:href=\"#DejaVuSans-52\"/>\r\n       <use x=\"63.623047\" xlink:href=\"#DejaVuSans-48\"/>\r\n       <use x=\"127.246094\" xlink:href=\"#DejaVuSans-48\"/>\r\n       <use x=\"190.869141\" xlink:href=\"#DejaVuSans-48\"/>\r\n       <use x=\"254.492188\" xlink:href=\"#DejaVuSans-48\"/>\r\n      </g>\r\n     </g>\r\n    </g>\r\n    <g id=\"ytick_5\">\r\n     <g id=\"line2d_12\">\r\n      <g>\r\n       <use style=\"stroke:#000000;stroke-width:0.8;\" x=\"46.0125\" xlink:href=\"#m10a379bec7\" y=\"81.148656\"/>\r\n      </g>\r\n     </g>\r\n     <g id=\"text_12\">\r\n      <!-- 50000 -->\r\n      <g transform=\"translate(7.2 84.947874)scale(0.1 -0.1)\">\r\n       <use xlink:href=\"#DejaVuSans-53\"/>\r\n       <use x=\"63.623047\" xlink:href=\"#DejaVuSans-48\"/>\r\n       <use x=\"127.246094\" xlink:href=\"#DejaVuSans-48\"/>\r\n       <use x=\"190.869141\" xlink:href=\"#DejaVuSans-48\"/>\r\n       <use x=\"254.492188\" xlink:href=\"#DejaVuSans-48\"/>\r\n      </g>\r\n     </g>\r\n    </g>\r\n    <g id=\"ytick_6\">\r\n     <g id=\"line2d_13\">\r\n      <g>\r\n       <use style=\"stroke:#000000;stroke-width:0.8;\" x=\"46.0125\" xlink:href=\"#m10a379bec7\" y=\"45.124387\"/>\r\n      </g>\r\n     </g>\r\n     <g id=\"text_13\">\r\n      <!-- 60000 -->\r\n      <defs>\r\n       <path d=\"M 33.015625 40.375 \r\nQ 26.375 40.375 22.484375 35.828125 \r\nQ 18.609375 31.296875 18.609375 23.390625 \r\nQ 18.609375 15.53125 22.484375 10.953125 \r\nQ 26.375 6.390625 33.015625 6.390625 \r\nQ 39.65625 6.390625 43.53125 10.953125 \r\nQ 47.40625 15.53125 47.40625 23.390625 \r\nQ 47.40625 31.296875 43.53125 35.828125 \r\nQ 39.65625 40.375 33.015625 40.375 \r\nz\r\nM 52.59375 71.296875 \r\nL 52.59375 62.3125 \r\nQ 48.875 64.0625 45.09375 64.984375 \r\nQ 41.3125 65.921875 37.59375 65.921875 \r\nQ 27.828125 65.921875 22.671875 59.328125 \r\nQ 17.53125 52.734375 16.796875 39.40625 \r\nQ 19.671875 43.65625 24.015625 45.921875 \r\nQ 28.375 48.1875 33.59375 48.1875 \r\nQ 44.578125 48.1875 50.953125 41.515625 \r\nQ 57.328125 34.859375 57.328125 23.390625 \r\nQ 57.328125 12.15625 50.6875 5.359375 \r\nQ 44.046875 -1.421875 33.015625 -1.421875 \r\nQ 20.359375 -1.421875 13.671875 8.265625 \r\nQ 6.984375 17.96875 6.984375 36.375 \r\nQ 6.984375 53.65625 15.1875 63.9375 \r\nQ 23.390625 74.21875 37.203125 74.21875 \r\nQ 40.921875 74.21875 44.703125 73.484375 \r\nQ 48.484375 72.75 52.59375 71.296875 \r\nz\r\n\" id=\"DejaVuSans-54\"/>\r\n      </defs>\r\n      <g transform=\"translate(7.2 48.923606)scale(0.1 -0.1)\">\r\n       <use xlink:href=\"#DejaVuSans-54\"/>\r\n       <use x=\"63.623047\" xlink:href=\"#DejaVuSans-48\"/>\r\n       <use x=\"127.246094\" xlink:href=\"#DejaVuSans-48\"/>\r\n       <use x=\"190.869141\" xlink:href=\"#DejaVuSans-48\"/>\r\n       <use x=\"254.492188\" xlink:href=\"#DejaVuSans-48\"/>\r\n      </g>\r\n     </g>\r\n    </g>\r\n   </g>\r\n   <g id=\"line2d_14\">\r\n    <path clip-path=\"url(#p57ad0a6ba3)\" d=\"M 61.230682 226.007644 \r\nL 62.123244 227.72384 \r\nL 63.015806 227.45762 \r\nL 63.908368 226.423724 \r\nL 65.693492 226.040786 \r\nL 66.586054 227.010559 \r\nL 67.478616 228.641738 \r\nL 68.371178 228.239347 \r\nL 69.26374 228.204764 \r\nL 70.156302 229.874489 \r\nL 71.048864 229.215245 \r\nL 71.941426 229.418421 \r\nL 73.72655 226.766315 \r\nL 74.619112 227.317126 \r\nL 75.511674 226.331502 \r\nL 76.404236 227.236431 \r\nL 77.296798 224.50291 \r\nL 78.18936 226.955442 \r\nL 79.974483 225.997197 \r\nL 80.867045 226.622938 \r\nL 83.544731 226.035022 \r\nL 84.437293 226.045469 \r\nL 85.329855 225.633351 \r\nL 86.222417 227.890632 \r\nL 87.114979 227.191041 \r\nL 88.007541 227.151414 \r\nL 88.900103 227.657915 \r\nL 90.685227 226.944275 \r\nL 93.362913 227.759864 \r\nL 94.255475 227.567134 \r\nL 95.148037 227.822546 \r\nL 96.040599 226.348073 \r\nL 96.933161 226.606367 \r\nL 97.825723 227.832273 \r\nL 98.718285 228.006991 \r\nL 99.610847 228.306712 \r\nL 100.503409 228.840952 \r\nL 101.395971 228.438561 \r\nL 102.288533 228.187112 \r\nL 103.181095 228.365792 \r\nL 104.073657 228.003388 \r\nL 104.966219 228.538349 \r\nL 105.858781 228.639216 \r\nL 106.751343 228.349221 \r\nL 107.643905 228.546274 \r\nL 108.536467 227.593792 \r\nL 109.429029 227.923054 \r\nL 110.321591 227.262729 \r\nL 111.214153 227.982854 \r\nL 112.106715 227.817863 \r\nL 112.999277 228.003028 \r\nL 113.891839 227.767429 \r\nL 114.784401 227.997264 \r\nL 115.676963 227.939625 \r\nL 117.462087 228.3766 \r\nL 120.139773 228.078319 \r\nL 121.032335 228.260962 \r\nL 121.924897 227.429522 \r\nL 122.817459 226.939231 \r\nL 123.710021 226.643472 \r\nL 124.602583 226.853854 \r\nL 125.495145 226.289714 \r\nL 126.387707 225.463317 \r\nL 127.280269 221.477232 \r\nL 128.172831 221.881064 \r\nL 129.065393 221.253521 \r\nL 129.957955 221.229745 \r\nL 130.850517 220.360119 \r\nL 131.743079 218.725698 \r\nL 132.63564 221.401581 \r\nL 133.528202 220.788448 \r\nL 134.420764 220.931824 \r\nL 135.313326 218.955893 \r\nL 136.205888 218.864031 \r\nL 137.09845 219.469239 \r\nL 137.991012 218.87664 \r\nL 138.883574 219.166635 \r\nL 139.776136 218.405802 \r\nL 140.668698 220.232233 \r\nL 142.453822 218.780815 \r\nL 143.346384 218.860068 \r\nL 145.131508 218.340599 \r\nL 146.02407 216.954024 \r\nL 146.916632 218.195781 \r\nL 147.809194 218.914825 \r\nL 148.701756 218.528645 \r\nL 149.594318 219.760315 \r\nL 150.48688 219.219951 \r\nL 151.379442 219.29236 \r\nL 152.272004 218.888167 \r\nL 153.164566 220.454503 \r\nL 154.057128 219.951964 \r\nL 154.94969 220.462068 \r\nL 155.842252 219.724651 \r\nL 156.734814 219.910896 \r\nL 157.627376 219.074413 \r\nL 158.519938 219.276869 \r\nL 159.4125 218.304574 \r\nL 160.305062 220.2135 \r\nL 161.197624 224.596933 \r\nL 162.090186 223.575645 \r\nL 162.982748 224.661417 \r\nL 163.87531 224.333956 \r\nL 164.767872 223.886174 \r\nL 165.660434 224.801551 \r\nL 167.445558 223.984521 \r\nL 169.230682 223.633644 \r\nL 170.123244 224.063414 \r\nL 171.015806 222.814452 \r\nL 171.908368 222.417105 \r\nL 172.80093 221.819462 \r\nL 174.586054 221.878542 \r\nL 175.478616 221.352588 \r\nL 176.371178 221.936901 \r\nL 177.26374 223.750723 \r\nL 178.156302 223.327438 \r\nL 179.048864 224.41465 \r\nL 179.941426 222.579214 \r\nL 180.833988 222.741683 \r\nL 184.404236 222.741683 \r\nL 185.296798 222.45421 \r\nL 186.18936 223.026275 \r\nL 187.974483 223.253588 \r\nL 189.759607 222.367391 \r\nL 190.652169 223.064821 \r\nL 191.544731 222.832465 \r\nL 192.437293 221.880703 \r\nL 193.329855 221.426437 \r\nL 194.222417 220.557172 \r\nL 195.114979 220.28663 \r\nL 196.007541 219.713123 \r\nL 196.900103 220.099303 \r\nL 197.792665 220.083092 \r\nL 198.685227 219.838488 \r\nL 199.577789 220.46567 \r\nL 200.470351 220.33238 \r\nL 201.362913 219.810028 \r\nL 202.255475 218.916266 \r\nL 203.148037 218.309618 \r\nL 204.040599 215.112104 \r\nL 204.933161 214.495728 \r\nL 205.825723 214.658198 \r\nL 206.718285 213.966892 \r\nL 207.610847 214.297235 \r\nL 208.503409 214.150256 \r\nL 209.395971 212.098313 \r\nL 210.288533 213.395547 \r\nL 211.181095 212.770166 \r\nL 212.073657 212.395874 \r\nL 212.966219 211.523726 \r\nL 213.858781 211.691599 \r\nL 214.751343 212.400197 \r\nL 215.643905 210.75749 \r\nL 216.536467 210.247747 \r\nL 217.429029 205.034675 \r\nL 218.321591 205.075022 \r\nL 219.214153 207.819711 \r\nL 220.106715 205.504071 \r\nL 220.999277 206.070372 \r\nL 221.891839 206.092707 \r\nL 222.784401 204.680556 \r\nL 223.676963 202.522342 \r\nL 224.569525 202.394096 \r\nL 225.462087 203.342615 \r\nL 226.354649 203.766981 \r\nL 227.247211 201.033459 \r\nL 228.139773 197.5618 \r\nL 229.032335 197.146801 \r\nL 229.924897 197.045212 \r\nL 230.817459 193.975945 \r\nL 231.710021 193.873276 \r\nL 232.602583 194.804503 \r\nL 233.495145 195.029294 \r\nL 234.387707 192.197787 \r\nL 235.280269 193.82032 \r\nL 236.172831 199.435783 \r\nL 237.065393 199.509272 \r\nL 237.957955 197.388524 \r\nL 238.850517 195.726724 \r\nL 239.743079 190.27301 \r\nL 240.63564 193.605975 \r\nL 241.528202 191.990287 \r\nL 242.420764 191.198113 \r\nL 243.313326 194.02782 \r\nL 244.205888 192.272717 \r\nL 245.09845 191.408495 \r\nL 245.991012 192.180495 \r\nL 246.883574 195.271738 \r\nL 247.776136 194.450384 \r\nL 248.668698 195.54192 \r\nL 249.56126 196.312839 \r\nL 250.453822 193.519517 \r\nL 251.346384 192.23273 \r\nL 252.238946 191.811246 \r\nL 253.131508 191.239901 \r\nL 254.02407 184.256957 \r\nL 254.916632 179.040283 \r\nL 255.809194 177.944064 \r\nL 256.701756 175.274666 \r\nL 257.594318 176.682494 \r\nL 257.594318 176.682494 \r\n\" style=\"fill:none;stroke:#ffa500;stroke-linecap:square;stroke-width:1.5;\"/>\r\n   </g>\r\n   <g id=\"line2d_15\">\r\n    <path clip-path=\"url(#p57ad0a6ba3)\" d=\"M 258.48688 179.43691 \r\nL 259.379442 175.430651 \r\nL 260.272004 177.597511 \r\nL 261.164566 175.825477 \r\nL 262.057128 172.295099 \r\nL 262.94969 166.01751 \r\nL 263.842252 166.70125 \r\nL 264.734814 163.898202 \r\nL 265.627376 162.649241 \r\nL 266.519938 157.232271 \r\nL 267.4125 156.946599 \r\nL 268.305062 155.362612 \r\nL 269.197624 145.13208 \r\nL 270.090186 142.091992 \r\nL 270.982748 145.819423 \r\nL 271.87531 138.607364 \r\nL 272.767872 128.424384 \r\nL 273.660434 119.013764 \r\nL 274.552996 114.771186 \r\nL 275.445558 116.264753 \r\nL 276.33812 123.763564 \r\nL 277.230682 133.602513 \r\nL 278.123244 138.620333 \r\nL 279.015806 126.574898 \r\nL 279.908368 120.229223 \r\nL 280.80093 128.917556 \r\nL 281.693492 131.530036 \r\nL 282.586054 132.244037 \r\nL 283.478616 129.340121 \r\nL 284.371178 131.850652 \r\nL 285.26374 133.341337 \r\nL 286.156302 150.197812 \r\nL 287.048864 142.389912 \r\nL 287.941426 145.630295 \r\nL 288.833988 144.940431 \r\nL 289.72655 145.003833 \r\nL 290.619112 144.187523 \r\nL 291.511674 151.669044 \r\nL 292.404236 140.839428 \r\nL 293.296798 137.84473 \r\nL 294.18936 137.719366 \r\nL 295.081921 141.950416 \r\nL 295.974483 140.466577 \r\nL 296.867045 133.383845 \r\nL 297.759607 125.563337 \r\nL 298.652169 128.055856 \r\nL 299.544731 123.308938 \r\nL 300.437293 119.849528 \r\nL 301.329855 121.226015 \r\nL 302.222417 94.02445 \r\nL 303.114979 93.747063 \r\nL 304.007541 99.71016 \r\nL 304.900103 88.48752 \r\nL 305.792665 90.261355 \r\nL 306.685227 91.235811 \r\nL 307.577789 86.013013 \r\nL 308.470351 88.580102 \r\nL 309.362913 83.963232 \r\nL 310.255475 73.475486 \r\nL 311.148037 75.381531 \r\n\" style=\"fill:none;stroke:#0000ff;stroke-linecap:square;stroke-width:1.5;\"/>\r\n   </g>\r\n   <g id=\"line2d_16\">\r\n    <path clip-path=\"url(#p57ad0a6ba3)\" d=\"M 312.040599 59.797432 \r\nL 312.933161 59.754923 \r\nL 313.825723 54.208627 \r\nL 314.718285 66.181293 \r\nL 315.610847 85.112046 \r\nL 316.503409 82.129597 \r\nL 317.395971 91.734387 \r\nL 318.288533 94.4254 \r\nL 319.181095 94.94523 \r\nL 320.073657 98.276754 \r\nL 320.966219 82.515056 \r\nL 321.858781 86.602009 \r\nL 322.751343 79.707685 \r\nL 323.643905 87.164709 \r\nL 324.536467 85.706806 \r\nL 325.429029 85.111685 \r\nL 326.321591 77.68204 \r\nL 327.214153 72.592892 \r\nL 328.106715 63.392294 \r\nL 328.999277 60.070856 \r\nL 329.891839 53.014062 \r\nL 330.784401 55.0887 \r\nL 331.676963 40.891896 \r\nL 332.569525 48.722851 \r\nL 333.462087 60.975065 \r\nL 334.354649 56.323972 \r\nL 335.247211 48.968176 \r\nL 336.139773 53.622872 \r\nL 337.032335 51.962514 \r\nL 337.924897 51.999258 \r\nL 338.817459 54.568509 \r\nL 339.710021 66.396357 \r\nL 340.602583 65.473416 \r\nL 341.495145 72.885409 \r\nL 342.387707 76.411825 \r\nL 343.280269 62.91245 \r\nL 344.172831 60.065813 \r\nL 345.065393 60.319424 \r\nL 345.957955 53.683033 \r\nL 346.850517 49.515745 \r\nL 347.743079 49.497013 \r\nL 348.63564 49.689022 \r\nL 349.528202 48.652244 \r\nL 350.420764 55.575027 \r\nL 351.313326 51.626768 \r\nL 352.205888 48.294523 \r\nL 353.09845 52.267639 \r\nL 353.991012 59.791668 \r\nL 354.883574 52.196311 \r\nL 355.776136 51.932974 \r\nL 356.668698 45.932772 \r\nL 357.56126 45.282894 \r\nL 358.453822 45.759495 \r\nL 359.346384 32.201761 \r\nL 360.238946 34.428782 \r\nL 361.131508 33.441717 \r\nL 362.02407 39.882856 \r\nL 362.916632 44.81746 \r\nL 363.809194 58.670233 \r\nL 365.594318 57.732881 \r\n\" style=\"fill:none;stroke:#008000;stroke-linecap:square;stroke-width:1.5;\"/>\r\n   </g>\r\n   <g id=\"patch_3\">\r\n    <path d=\"M 46.0125 239.758125 \r\nL 46.0125 22.318125 \r\n\" style=\"fill:none;stroke:#000000;stroke-linecap:square;stroke-linejoin:miter;stroke-width:0.8;\"/>\r\n   </g>\r\n   <g id=\"patch_4\">\r\n    <path d=\"M 380.8125 239.758125 \r\nL 380.8125 22.318125 \r\n\" style=\"fill:none;stroke:#000000;stroke-linecap:square;stroke-linejoin:miter;stroke-width:0.8;\"/>\r\n   </g>\r\n   <g id=\"patch_5\">\r\n    <path d=\"M 46.0125 239.758125 \r\nL 380.8125 239.758125 \r\n\" style=\"fill:none;stroke:#000000;stroke-linecap:square;stroke-linejoin:miter;stroke-width:0.8;\"/>\r\n   </g>\r\n   <g id=\"patch_6\">\r\n    <path d=\"M 46.0125 22.318125 \r\nL 380.8125 22.318125 \r\n\" style=\"fill:none;stroke:#000000;stroke-linecap:square;stroke-linejoin:miter;stroke-width:0.8;\"/>\r\n   </g>\r\n   <g id=\"text_14\">\r\n    <!-- Repartition between trainset, validation set, and test set -->\r\n    <defs>\r\n     <path d=\"M 44.390625 34.1875 \r\nQ 47.5625 33.109375 50.5625 29.59375 \r\nQ 53.5625 26.078125 56.59375 19.921875 \r\nL 66.609375 0 \r\nL 56 0 \r\nL 46.6875 18.703125 \r\nQ 43.0625 26.03125 39.671875 28.421875 \r\nQ 36.28125 30.8125 30.421875 30.8125 \r\nL 19.671875 30.8125 \r\nL 19.671875 0 \r\nL 9.8125 0 \r\nL 9.8125 72.90625 \r\nL 32.078125 72.90625 \r\nQ 44.578125 72.90625 50.734375 67.671875 \r\nQ 56.890625 62.453125 56.890625 51.90625 \r\nQ 56.890625 45.015625 53.6875 40.46875 \r\nQ 50.484375 35.9375 44.390625 34.1875 \r\nz\r\nM 19.671875 64.796875 \r\nL 19.671875 38.921875 \r\nL 32.078125 38.921875 \r\nQ 39.203125 38.921875 42.84375 42.21875 \r\nQ 46.484375 45.515625 46.484375 51.90625 \r\nQ 46.484375 58.296875 42.84375 61.546875 \r\nQ 39.203125 64.796875 32.078125 64.796875 \r\nz\r\n\" id=\"DejaVuSans-82\"/>\r\n     <path d=\"M 56.203125 29.59375 \r\nL 56.203125 25.203125 \r\nL 14.890625 25.203125 \r\nQ 15.484375 15.921875 20.484375 11.0625 \r\nQ 25.484375 6.203125 34.421875 6.203125 \r\nQ 39.59375 6.203125 44.453125 7.46875 \r\nQ 49.3125 8.734375 54.109375 11.28125 \r\nL 54.109375 2.78125 \r\nQ 49.265625 0.734375 44.1875 -0.34375 \r\nQ 39.109375 -1.421875 33.890625 -1.421875 \r\nQ 20.796875 -1.421875 13.15625 6.1875 \r\nQ 5.515625 13.8125 5.515625 26.8125 \r\nQ 5.515625 40.234375 12.765625 48.109375 \r\nQ 20.015625 56 32.328125 56 \r\nQ 43.359375 56 49.78125 48.890625 \r\nQ 56.203125 41.796875 56.203125 29.59375 \r\nz\r\nM 47.21875 32.234375 \r\nQ 47.125 39.59375 43.09375 43.984375 \r\nQ 39.0625 48.390625 32.421875 48.390625 \r\nQ 24.90625 48.390625 20.390625 44.140625 \r\nQ 15.875 39.890625 15.1875 32.171875 \r\nz\r\n\" id=\"DejaVuSans-101\"/>\r\n     <path d=\"M 18.109375 8.203125 \r\nL 18.109375 -20.796875 \r\nL 9.078125 -20.796875 \r\nL 9.078125 54.6875 \r\nL 18.109375 54.6875 \r\nL 18.109375 46.390625 \r\nQ 20.953125 51.265625 25.265625 53.625 \r\nQ 29.59375 56 35.59375 56 \r\nQ 45.5625 56 51.78125 48.09375 \r\nQ 58.015625 40.1875 58.015625 27.296875 \r\nQ 58.015625 14.40625 51.78125 6.484375 \r\nQ 45.5625 -1.421875 35.59375 -1.421875 \r\nQ 29.59375 -1.421875 25.265625 0.953125 \r\nQ 20.953125 3.328125 18.109375 8.203125 \r\nz\r\nM 48.6875 27.296875 \r\nQ 48.6875 37.203125 44.609375 42.84375 \r\nQ 40.53125 48.484375 33.40625 48.484375 \r\nQ 26.265625 48.484375 22.1875 42.84375 \r\nQ 18.109375 37.203125 18.109375 27.296875 \r\nQ 18.109375 17.390625 22.1875 11.75 \r\nQ 26.265625 6.109375 33.40625 6.109375 \r\nQ 40.53125 6.109375 44.609375 11.75 \r\nQ 48.6875 17.390625 48.6875 27.296875 \r\nz\r\n\" id=\"DejaVuSans-112\"/>\r\n     <path d=\"M 34.28125 27.484375 \r\nQ 23.390625 27.484375 19.1875 25 \r\nQ 14.984375 22.515625 14.984375 16.5 \r\nQ 14.984375 11.71875 18.140625 8.90625 \r\nQ 21.296875 6.109375 26.703125 6.109375 \r\nQ 34.1875 6.109375 38.703125 11.40625 \r\nQ 43.21875 16.703125 43.21875 25.484375 \r\nL 43.21875 27.484375 \r\nz\r\nM 52.203125 31.203125 \r\nL 52.203125 0 \r\nL 43.21875 0 \r\nL 43.21875 8.296875 \r\nQ 40.140625 3.328125 35.546875 0.953125 \r\nQ 30.953125 -1.421875 24.3125 -1.421875 \r\nQ 15.921875 -1.421875 10.953125 3.296875 \r\nQ 6 8.015625 6 15.921875 \r\nQ 6 25.140625 12.171875 29.828125 \r\nQ 18.359375 34.515625 30.609375 34.515625 \r\nL 43.21875 34.515625 \r\nL 43.21875 35.40625 \r\nQ 43.21875 41.609375 39.140625 45 \r\nQ 35.0625 48.390625 27.6875 48.390625 \r\nQ 23 48.390625 18.546875 47.265625 \r\nQ 14.109375 46.140625 10.015625 43.890625 \r\nL 10.015625 52.203125 \r\nQ 14.9375 54.109375 19.578125 55.046875 \r\nQ 24.21875 56 28.609375 56 \r\nQ 40.484375 56 46.34375 49.84375 \r\nQ 52.203125 43.703125 52.203125 31.203125 \r\nz\r\n\" id=\"DejaVuSans-97\"/>\r\n     <path d=\"M 41.109375 46.296875 \r\nQ 39.59375 47.171875 37.8125 47.578125 \r\nQ 36.03125 48 33.890625 48 \r\nQ 26.265625 48 22.1875 43.046875 \r\nQ 18.109375 38.09375 18.109375 28.8125 \r\nL 18.109375 0 \r\nL 9.078125 0 \r\nL 9.078125 54.6875 \r\nL 18.109375 54.6875 \r\nL 18.109375 46.1875 \r\nQ 20.953125 51.171875 25.484375 53.578125 \r\nQ 30.03125 56 36.53125 56 \r\nQ 37.453125 56 38.578125 55.875 \r\nQ 39.703125 55.765625 41.0625 55.515625 \r\nz\r\n\" id=\"DejaVuSans-114\"/>\r\n     <path d=\"M 18.3125 70.21875 \r\nL 18.3125 54.6875 \r\nL 36.8125 54.6875 \r\nL 36.8125 47.703125 \r\nL 18.3125 47.703125 \r\nL 18.3125 18.015625 \r\nQ 18.3125 11.328125 20.140625 9.421875 \r\nQ 21.96875 7.515625 27.59375 7.515625 \r\nL 36.8125 7.515625 \r\nL 36.8125 0 \r\nL 27.59375 0 \r\nQ 17.1875 0 13.234375 3.875 \r\nQ 9.28125 7.765625 9.28125 18.015625 \r\nL 9.28125 47.703125 \r\nL 2.6875 47.703125 \r\nL 2.6875 54.6875 \r\nL 9.28125 54.6875 \r\nL 9.28125 70.21875 \r\nz\r\n\" id=\"DejaVuSans-116\"/>\r\n     <path d=\"M 9.421875 54.6875 \r\nL 18.40625 54.6875 \r\nL 18.40625 0 \r\nL 9.421875 0 \r\nz\r\nM 9.421875 75.984375 \r\nL 18.40625 75.984375 \r\nL 18.40625 64.59375 \r\nL 9.421875 64.59375 \r\nz\r\n\" id=\"DejaVuSans-105\"/>\r\n     <path d=\"M 30.609375 48.390625 \r\nQ 23.390625 48.390625 19.1875 42.75 \r\nQ 14.984375 37.109375 14.984375 27.296875 \r\nQ 14.984375 17.484375 19.15625 11.84375 \r\nQ 23.34375 6.203125 30.609375 6.203125 \r\nQ 37.796875 6.203125 41.984375 11.859375 \r\nQ 46.1875 17.53125 46.1875 27.296875 \r\nQ 46.1875 37.015625 41.984375 42.703125 \r\nQ 37.796875 48.390625 30.609375 48.390625 \r\nz\r\nM 30.609375 56 \r\nQ 42.328125 56 49.015625 48.375 \r\nQ 55.71875 40.765625 55.71875 27.296875 \r\nQ 55.71875 13.875 49.015625 6.21875 \r\nQ 42.328125 -1.421875 30.609375 -1.421875 \r\nQ 18.84375 -1.421875 12.171875 6.21875 \r\nQ 5.515625 13.875 5.515625 27.296875 \r\nQ 5.515625 40.765625 12.171875 48.375 \r\nQ 18.84375 56 30.609375 56 \r\nz\r\n\" id=\"DejaVuSans-111\"/>\r\n     <path d=\"M 54.890625 33.015625 \r\nL 54.890625 0 \r\nL 45.90625 0 \r\nL 45.90625 32.71875 \r\nQ 45.90625 40.484375 42.875 44.328125 \r\nQ 39.84375 48.1875 33.796875 48.1875 \r\nQ 26.515625 48.1875 22.3125 43.546875 \r\nQ 18.109375 38.921875 18.109375 30.90625 \r\nL 18.109375 0 \r\nL 9.078125 0 \r\nL 9.078125 54.6875 \r\nL 18.109375 54.6875 \r\nL 18.109375 46.1875 \r\nQ 21.34375 51.125 25.703125 53.5625 \r\nQ 30.078125 56 35.796875 56 \r\nQ 45.21875 56 50.046875 50.171875 \r\nQ 54.890625 44.34375 54.890625 33.015625 \r\nz\r\n\" id=\"DejaVuSans-110\"/>\r\n     <path id=\"DejaVuSans-32\"/>\r\n     <path d=\"M 48.6875 27.296875 \r\nQ 48.6875 37.203125 44.609375 42.84375 \r\nQ 40.53125 48.484375 33.40625 48.484375 \r\nQ 26.265625 48.484375 22.1875 42.84375 \r\nQ 18.109375 37.203125 18.109375 27.296875 \r\nQ 18.109375 17.390625 22.1875 11.75 \r\nQ 26.265625 6.109375 33.40625 6.109375 \r\nQ 40.53125 6.109375 44.609375 11.75 \r\nQ 48.6875 17.390625 48.6875 27.296875 \r\nz\r\nM 18.109375 46.390625 \r\nQ 20.953125 51.265625 25.265625 53.625 \r\nQ 29.59375 56 35.59375 56 \r\nQ 45.5625 56 51.78125 48.09375 \r\nQ 58.015625 40.1875 58.015625 27.296875 \r\nQ 58.015625 14.40625 51.78125 6.484375 \r\nQ 45.5625 -1.421875 35.59375 -1.421875 \r\nQ 29.59375 -1.421875 25.265625 0.953125 \r\nQ 20.953125 3.328125 18.109375 8.203125 \r\nL 18.109375 0 \r\nL 9.078125 0 \r\nL 9.078125 75.984375 \r\nL 18.109375 75.984375 \r\nz\r\n\" id=\"DejaVuSans-98\"/>\r\n     <path d=\"M 4.203125 54.6875 \r\nL 13.1875 54.6875 \r\nL 24.421875 12.015625 \r\nL 35.59375 54.6875 \r\nL 46.1875 54.6875 \r\nL 57.421875 12.015625 \r\nL 68.609375 54.6875 \r\nL 77.59375 54.6875 \r\nL 63.28125 0 \r\nL 52.6875 0 \r\nL 40.921875 44.828125 \r\nL 29.109375 0 \r\nL 18.5 0 \r\nz\r\n\" id=\"DejaVuSans-119\"/>\r\n     <path d=\"M 44.28125 53.078125 \r\nL 44.28125 44.578125 \r\nQ 40.484375 46.53125 36.375 47.5 \r\nQ 32.28125 48.484375 27.875 48.484375 \r\nQ 21.1875 48.484375 17.84375 46.4375 \r\nQ 14.5 44.390625 14.5 40.28125 \r\nQ 14.5 37.15625 16.890625 35.375 \r\nQ 19.28125 33.59375 26.515625 31.984375 \r\nL 29.59375 31.296875 \r\nQ 39.15625 29.25 43.1875 25.515625 \r\nQ 47.21875 21.78125 47.21875 15.09375 \r\nQ 47.21875 7.46875 41.1875 3.015625 \r\nQ 35.15625 -1.421875 24.609375 -1.421875 \r\nQ 20.21875 -1.421875 15.453125 -0.5625 \r\nQ 10.6875 0.296875 5.421875 2 \r\nL 5.421875 11.28125 \r\nQ 10.40625 8.6875 15.234375 7.390625 \r\nQ 20.0625 6.109375 24.8125 6.109375 \r\nQ 31.15625 6.109375 34.5625 8.28125 \r\nQ 37.984375 10.453125 37.984375 14.40625 \r\nQ 37.984375 18.0625 35.515625 20.015625 \r\nQ 33.0625 21.96875 24.703125 23.78125 \r\nL 21.578125 24.515625 \r\nQ 13.234375 26.265625 9.515625 29.90625 \r\nQ 5.8125 33.546875 5.8125 39.890625 \r\nQ 5.8125 47.609375 11.28125 51.796875 \r\nQ 16.75 56 26.8125 56 \r\nQ 31.78125 56 36.171875 55.265625 \r\nQ 40.578125 54.546875 44.28125 53.078125 \r\nz\r\n\" id=\"DejaVuSans-115\"/>\r\n     <path d=\"M 11.71875 12.40625 \r\nL 22.015625 12.40625 \r\nL 22.015625 4 \r\nL 14.015625 -11.625 \r\nL 7.71875 -11.625 \r\nL 11.71875 4 \r\nz\r\n\" id=\"DejaVuSans-44\"/>\r\n     <path d=\"M 2.984375 54.6875 \r\nL 12.5 54.6875 \r\nL 29.59375 8.796875 \r\nL 46.6875 54.6875 \r\nL 56.203125 54.6875 \r\nL 35.6875 0 \r\nL 23.484375 0 \r\nz\r\n\" id=\"DejaVuSans-118\"/>\r\n     <path d=\"M 9.421875 75.984375 \r\nL 18.40625 75.984375 \r\nL 18.40625 0 \r\nL 9.421875 0 \r\nz\r\n\" id=\"DejaVuSans-108\"/>\r\n     <path d=\"M 45.40625 46.390625 \r\nL 45.40625 75.984375 \r\nL 54.390625 75.984375 \r\nL 54.390625 0 \r\nL 45.40625 0 \r\nL 45.40625 8.203125 \r\nQ 42.578125 3.328125 38.25 0.953125 \r\nQ 33.9375 -1.421875 27.875 -1.421875 \r\nQ 17.96875 -1.421875 11.734375 6.484375 \r\nQ 5.515625 14.40625 5.515625 27.296875 \r\nQ 5.515625 40.1875 11.734375 48.09375 \r\nQ 17.96875 56 27.875 56 \r\nQ 33.9375 56 38.25 53.625 \r\nQ 42.578125 51.265625 45.40625 46.390625 \r\nz\r\nM 14.796875 27.296875 \r\nQ 14.796875 17.390625 18.875 11.75 \r\nQ 22.953125 6.109375 30.078125 6.109375 \r\nQ 37.203125 6.109375 41.296875 11.75 \r\nQ 45.40625 17.390625 45.40625 27.296875 \r\nQ 45.40625 37.203125 41.296875 42.84375 \r\nQ 37.203125 48.484375 30.078125 48.484375 \r\nQ 22.953125 48.484375 18.875 42.84375 \r\nQ 14.796875 37.203125 14.796875 27.296875 \r\nz\r\n\" id=\"DejaVuSans-100\"/>\r\n    </defs>\r\n    <g transform=\"translate(43.157813 16.318125)scale(0.12 -0.12)\">\r\n     <use xlink:href=\"#DejaVuSans-82\"/>\r\n     <use x=\"69.419922\" xlink:href=\"#DejaVuSans-101\"/>\r\n     <use x=\"130.943359\" xlink:href=\"#DejaVuSans-112\"/>\r\n     <use x=\"194.419922\" xlink:href=\"#DejaVuSans-97\"/>\r\n     <use x=\"255.699219\" xlink:href=\"#DejaVuSans-114\"/>\r\n     <use x=\"296.8125\" xlink:href=\"#DejaVuSans-116\"/>\r\n     <use x=\"336.021484\" xlink:href=\"#DejaVuSans-105\"/>\r\n     <use x=\"363.804688\" xlink:href=\"#DejaVuSans-116\"/>\r\n     <use x=\"403.013672\" xlink:href=\"#DejaVuSans-105\"/>\r\n     <use x=\"430.796875\" xlink:href=\"#DejaVuSans-111\"/>\r\n     <use x=\"491.978516\" xlink:href=\"#DejaVuSans-110\"/>\r\n     <use x=\"555.357422\" xlink:href=\"#DejaVuSans-32\"/>\r\n     <use x=\"587.144531\" xlink:href=\"#DejaVuSans-98\"/>\r\n     <use x=\"650.621094\" xlink:href=\"#DejaVuSans-101\"/>\r\n     <use x=\"712.144531\" xlink:href=\"#DejaVuSans-116\"/>\r\n     <use x=\"751.353516\" xlink:href=\"#DejaVuSans-119\"/>\r\n     <use x=\"833.140625\" xlink:href=\"#DejaVuSans-101\"/>\r\n     <use x=\"894.664062\" xlink:href=\"#DejaVuSans-101\"/>\r\n     <use x=\"956.1875\" xlink:href=\"#DejaVuSans-110\"/>\r\n     <use x=\"1019.566406\" xlink:href=\"#DejaVuSans-32\"/>\r\n     <use x=\"1051.353516\" xlink:href=\"#DejaVuSans-116\"/>\r\n     <use x=\"1090.5625\" xlink:href=\"#DejaVuSans-114\"/>\r\n     <use x=\"1131.675781\" xlink:href=\"#DejaVuSans-97\"/>\r\n     <use x=\"1192.955078\" xlink:href=\"#DejaVuSans-105\"/>\r\n     <use x=\"1220.738281\" xlink:href=\"#DejaVuSans-110\"/>\r\n     <use x=\"1284.117188\" xlink:href=\"#DejaVuSans-115\"/>\r\n     <use x=\"1336.216797\" xlink:href=\"#DejaVuSans-101\"/>\r\n     <use x=\"1397.740234\" xlink:href=\"#DejaVuSans-116\"/>\r\n     <use x=\"1436.949219\" xlink:href=\"#DejaVuSans-44\"/>\r\n     <use x=\"1468.736328\" xlink:href=\"#DejaVuSans-32\"/>\r\n     <use x=\"1500.523438\" xlink:href=\"#DejaVuSans-118\"/>\r\n     <use x=\"1559.703125\" xlink:href=\"#DejaVuSans-97\"/>\r\n     <use x=\"1620.982422\" xlink:href=\"#DejaVuSans-108\"/>\r\n     <use x=\"1648.765625\" xlink:href=\"#DejaVuSans-105\"/>\r\n     <use x=\"1676.548828\" xlink:href=\"#DejaVuSans-100\"/>\r\n     <use x=\"1740.025391\" xlink:href=\"#DejaVuSans-97\"/>\r\n     <use x=\"1801.304688\" xlink:href=\"#DejaVuSans-116\"/>\r\n     <use x=\"1840.513672\" xlink:href=\"#DejaVuSans-105\"/>\r\n     <use x=\"1868.296875\" xlink:href=\"#DejaVuSans-111\"/>\r\n     <use x=\"1929.478516\" xlink:href=\"#DejaVuSans-110\"/>\r\n     <use x=\"1992.857422\" xlink:href=\"#DejaVuSans-32\"/>\r\n     <use x=\"2024.644531\" xlink:href=\"#DejaVuSans-115\"/>\r\n     <use x=\"2076.744141\" xlink:href=\"#DejaVuSans-101\"/>\r\n     <use x=\"2138.267578\" xlink:href=\"#DejaVuSans-116\"/>\r\n     <use x=\"2177.476562\" xlink:href=\"#DejaVuSans-44\"/>\r\n     <use x=\"2209.263672\" xlink:href=\"#DejaVuSans-32\"/>\r\n     <use x=\"2241.050781\" xlink:href=\"#DejaVuSans-97\"/>\r\n     <use x=\"2302.330078\" xlink:href=\"#DejaVuSans-110\"/>\r\n     <use x=\"2365.708984\" xlink:href=\"#DejaVuSans-100\"/>\r\n     <use x=\"2429.185547\" xlink:href=\"#DejaVuSans-32\"/>\r\n     <use x=\"2460.972656\" xlink:href=\"#DejaVuSans-116\"/>\r\n     <use x=\"2500.181641\" xlink:href=\"#DejaVuSans-101\"/>\r\n     <use x=\"2561.705078\" xlink:href=\"#DejaVuSans-115\"/>\r\n     <use x=\"2613.804688\" xlink:href=\"#DejaVuSans-116\"/>\r\n     <use x=\"2653.013672\" xlink:href=\"#DejaVuSans-32\"/>\r\n     <use x=\"2684.800781\" xlink:href=\"#DejaVuSans-115\"/>\r\n     <use x=\"2736.900391\" xlink:href=\"#DejaVuSans-101\"/>\r\n     <use x=\"2798.423828\" xlink:href=\"#DejaVuSans-116\"/>\r\n    </g>\r\n   </g>\r\n  </g>\r\n </g>\r\n <defs>\r\n  <clipPath id=\"p57ad0a6ba3\">\r\n   <rect height=\"217.44\" width=\"334.8\" x=\"46.0125\" y=\"22.318125\"/>\r\n  </clipPath>\r\n </defs>\r\n</svg>\r\n",
      "image/png": "[encoded data removed]"
     },
     "metadata": {
      "needs_background": "light"
     }
    }
   ],
   "source": [
    "# Display the splitting\n",
    "plt.plot(pd.to_datetime(trainset['date']), trainset['close'], c = 'orange')\n",
    "plt.plot(pd.to_datetime(validation_set['date']), validation_set['close'], c = 'b')\n",
    "plt.plot(pd.to_datetime(testset['date']), testset['close'], c = 'g')\n",
    "plt.title('Repartition between trainset, validation set, and test set')\n",
    "plt.show();"
   ]
  },
  {
   "cell_type": "code",
   "execution_count": 19,
   "metadata": {},
   "outputs": [],
   "source": [
    "# Scale the variables\n",
    "scale_fct = StandardScaler()\n",
    "scale_fct.fit(trainset.drop('date', 1).drop('result', 1))\n",
    "joblib.dump(scale_fct, open('./Models/scaler.pkl','wb'))"
   ]
  },
  {
   "cell_type": "code",
   "execution_count": 20,
   "metadata": {},
   "outputs": [],
   "source": [
    "# scale_fct = StandardScaler()\n",
    "# scale_fct.fit(trainset.drop('date', 1).drop('result', 1))\n",
    "# pk.dump(scale_fct, open('./Models/scaler.pkl','wb'))"
   ]
  },
  {
   "cell_type": "code",
   "execution_count": 21,
   "metadata": {},
   "outputs": [],
   "source": [
    "# Apply PCA\n",
    "pca = PCA(n_components=trainset.shape[1] - 2) # remove the result and the date\n",
    "pca.fit(scale_fct.transform(trainset.drop('date', 1).drop('result', 1)))\n",
    "joblib.dump(pca, open('./Models/pca.pkl', 'wb'))"
   ]
  },
  {
   "cell_type": "code",
   "execution_count": 22,
   "metadata": {},
   "outputs": [],
   "source": [
    "# pca = PCA(n_components=trainset.shape[1] - 2) # remove the result and the date\n",
    "# pca.fit(scale_fct.transform(trainset.drop('date', 1).drop('result', 1)))\n",
    "# pk.dump(pca, open('./Models/pca.pkl',\"wb\"))"
   ]
  },
  {
   "cell_type": "code",
   "execution_count": 23,
   "metadata": {},
   "outputs": [],
   "source": [
    "# Scale PCA components (this accelerates training process in Deep Learning)\n",
    "pca_scaler = StandardScaler()\n",
    "pca_scaler.fit(pca.transform(scale_fct.transform(trainset.drop('date', 1).drop('result', 1))))\n",
    "joblib.dump(pca_scaler, open('./Models/pca_scaler.pkl','wb'))"
   ]
  },
  {
   "cell_type": "code",
   "execution_count": 24,
   "metadata": {},
   "outputs": [],
   "source": [
    "# pca_scaler = StandardScaler()\n",
    "# pca_scaler.fit(pca.transform(scale_fct.transform(trainset.drop('date', 1).drop('result', 1))))\n",
    "# pk.dump(pca_scaler, open('./Models/pca_scaler.pkl','wb'))"
   ]
  },
  {
   "cell_type": "code",
   "execution_count": 25,
   "metadata": {},
   "outputs": [],
   "source": [
    "# Save ready-to-use datasets \n",
    "trainset_final = pd.DataFrame(pca_scaler.transform(pca.transform(scale_fct.transform(trainset.drop('date', 1).drop('result', 1)))))\n",
    "validation_set_final = pd.DataFrame(pca_scaler.transform(pca.transform(scale_fct.transform(validation_set.drop('date', 1).drop('result', 1)))))\n",
    "testset_final = pd.DataFrame(pca_scaler.transform(pca.transform(scale_fct.transform(testset.drop('date', 1).drop('result', 1)))))"
   ]
  },
  {
   "cell_type": "code",
   "execution_count": 26,
   "metadata": {},
   "outputs": [],
   "source": [
    "trainset_final.to_csv('./Data/Trainset_final_SL{}_TP{}.csv'.format(stoploss, takeprofit), index = False)\n",
    "validation_set_final.to_csv('./Data/Validationset_final_SL{}_TP{}.csv'.format(stoploss, takeprofit), index = False)\n",
    "testset_final.to_csv('./Data/Testset_final_SL{}_TP{}.csv'.format(stoploss, takeprofit), index = False)"
   ]
  },
  {
   "cell_type": "code",
   "execution_count": null,
   "metadata": {},
   "outputs": [],
   "source": []
  },
  {
   "cell_type": "code",
   "execution_count": null,
   "metadata": {},
   "outputs": [],
   "source": [
    "vol_fig = df.plot(\n",
    "    x='date',\n",
    "    y='volume',\n",
    "    title='Bitcoin Daily Volume'\n",
    ")"
   ]
  },
  {
   "cell_type": "code",
   "execution_count": null,
   "metadata": {},
   "outputs": [],
   "source": [
    "body_fig = df.plot(\n",
    "    x='date',\n",
    "    y='bodysize',\n",
    "    title='Bitcoin Bodysize'\n",
    ")"
   ]
  },
  {
   "cell_type": "code",
   "execution_count": null,
   "metadata": {},
   "outputs": [],
   "source": [
    "ema_fig = df.plot(\n",
    "    x= 'date',\n",
    "    y =['close','ema_8','ema_21']\n",
    ")"
   ]
  },
  {
   "cell_type": "code",
   "execution_count": null,
   "metadata": {},
   "outputs": [],
   "source": [
    "df.head()"
   ]
  },
  {
   "cell_type": "code",
   "execution_count": null,
   "metadata": {},
   "outputs": [],
   "source": [
    "rsi_fig = df.plot(\n",
    "    x= 'date',\n",
    "    y =['rsi_21']\n",
    ")"
   ]
  },
  {
   "cell_type": "code",
   "execution_count": null,
   "metadata": {},
   "outputs": [],
   "source": []
  }
 ]
}