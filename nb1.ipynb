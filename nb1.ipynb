{
 "metadata": {
  "language_info": {
   "codemirror_mode": {
    "name": "ipython",
    "version": 3
   },
   "file_extension": ".py",
   "mimetype": "text/x-python",
   "name": "python",
   "nbconvert_exporter": "python",
   "pygments_lexer": "ipython3",
   "version": "3.7.9-final"
  },
  "orig_nbformat": 2,
  "kernelspec": {
   "name": "python379jvsc74a57bd04cb5ea3394bfdc6abf1cba6e6023a5136a123bd60d92a96eabaf849483bfdf79",
   "display_name": "Python 3.7.9 64-bit ('dev': conda)"
  }
 },
 "nbformat": 4,
 "nbformat_minor": 2,
 "cells": [
  {
   "cell_type": "code",
   "execution_count": 1,
   "metadata": {},
   "outputs": [
    {
     "output_type": "stream",
     "name": "stderr",
     "text": [
      "\nBad key \"text.kerning_factor\" on line 4 in\nC:\\Users\\Josh Bond\\Anaconda3\\envs\\dev\\lib\\site-packages\\matplotlib\\mpl-data\\stylelib\\_classic_test_patch.mplstyle.\nYou probably need to get an updated matplotlibrc file from\nhttp://github.com/matplotlib/matplotlib/blob/master/matplotlibrc.template\nor from the matplotlib source distribution\n"
     ]
    }
   ],
   "source": [
    "import os\n",
    "import pandas as pd\n",
    "import numpy as np\n",
    "import pickle as pk\n",
    "from sklearn.decomposition import PCA\n",
    "from sklearn.preprocessing import StandardScaler\n",
    "import matplotlib.pyplot as plt\n",
    "import ccxt\n",
    "import time\n",
    "from dotenv import load_dotenv\n",
    "from alpha_vantage.techindicators import TechIndicators"
   ]
  },
  {
   "cell_type": "code",
   "execution_count": 2,
   "metadata": {},
   "outputs": [
    {
     "output_type": "execute_result",
     "data": {
      "text/plain": [
       "True"
      ]
     },
     "metadata": {},
     "execution_count": 2
    }
   ],
   "source": [
    "load_dotenv()"
   ]
  },
  {
   "cell_type": "code",
   "execution_count": 3,
   "metadata": {},
   "outputs": [],
   "source": [
    "kraken_pub_key = os.getenv(\"KRAKEN_PUBLIC_KEY\")\n",
    "kraken_sec_key = os.getenv(\"KRAKEN_SECRET_KEY\")\n",
    "kraken = ccxt.kraken({\"apiKey\": kraken_pub_key, \"secret\": kraken_sec_key})\n",
    "\n",
    "av_key = os.getenv(\"ALPHAVANTAGE_API_KEY\")"
   ]
  },
  {
   "cell_type": "code",
   "execution_count": 5,
   "metadata": {},
   "outputs": [],
   "source": [
    "# Getting BTC data and setting columns and date\n",
    "btc_historical = kraken.fetch_ohlcv(\"BTC/USD\", \"1d\")\n",
    "btc_historical_df = pd.DataFrame(\n",
    "    btc_historical, \n",
    "    columns=['date','open','high','low','close','volume']\n",
    ")\n",
    "btc_historical_df['date'] = pd.to_datetime(btc_historical_df['date'], unit='ms')\n",
    "btc_historical_df = btc_historical_df.sort_values(by='date')"
   ]
  },
  {
   "cell_type": "code",
   "execution_count": 7,
   "metadata": {},
   "outputs": [],
   "source": [
    "ti = TechIndicators(output_format = 'pandas')\n",
    "btc_ema = ti.get_ema('BTCUSD', interval='daily', time_period=20)"
   ]
  },
  {
   "cell_type": "code",
   "execution_count": 8,
   "metadata": {},
   "outputs": [
    {
     "output_type": "execute_result",
     "data": {
      "text/plain": [
       "(                   EMA\n",
       " date                  \n",
       " 2011-09-19      8.3675\n",
       " 2011-09-20      8.0373\n",
       " 2011-09-21      7.8109\n",
       " 2011-09-22      7.6060\n",
       " 2011-09-23      7.4264\n",
       " 2011-09-24      7.2639\n",
       " 2011-09-25      7.1130\n",
       " 2011-09-26      7.0118\n",
       " 2011-09-27      6.8011\n",
       " 2011-09-28      6.6220\n",
       " 2011-09-29      6.4504\n",
       " 2011-09-30      6.2951\n",
       " 2011-10-04      6.1594\n",
       " 2011-10-05      6.0471\n",
       " 2011-10-06      5.9397\n",
       " 2011-10-07      5.8312\n",
       " 2011-10-08      5.7149\n",
       " 2011-10-09      5.5506\n",
       " 2011-10-10      5.3924\n",
       " 2011-10-11      5.3084\n",
       " 2011-10-12      5.1933\n",
       " 2011-10-13      5.0730\n",
       " 2011-10-14      4.9680\n",
       " 2011-10-15      4.8805\n",
       " 2011-10-18      4.7890\n",
       " 2011-10-21      4.5463\n",
       " 2011-10-22      4.3295\n",
       " 2011-10-25      4.1953\n",
       " 2011-10-26      4.0548\n",
       " 2011-10-27      3.9248\n",
       " ...                ...\n",
       " 2021-03-16  53570.3052\n",
       " 2021-03-17  54079.1237\n",
       " 2021-03-18  54418.9441\n",
       " 2021-03-19  54763.6692\n",
       " 2021-03-20  55081.8086\n",
       " 2021-03-21  55298.2916\n",
       " 2021-03-22  55183.3691\n",
       " 2021-03-23  55104.6101\n",
       " 2021-03-24  54837.5827\n",
       " 2021-03-25  54501.4583\n",
       " 2021-03-26  54551.9013\n",
       " 2021-03-27  54673.4285\n",
       " 2021-03-28  54778.4093\n",
       " 2021-03-29  55050.1692\n",
       " 2021-03-30  55402.5714\n",
       " 2021-03-31  55722.2617\n",
       " 2021-04-01  56008.1816\n",
       " 2021-04-02  56289.1157\n",
       " 2021-04-03  56362.8325\n",
       " 2021-04-04  56538.2102\n",
       " 2021-04-05  56780.5807\n",
       " 2021-04-06  56896.0348\n",
       " 2021-04-07  56805.7558\n",
       " 2021-04-08  56927.2498\n",
       " 2021-04-09  57041.7822\n",
       " 2021-04-10  57302.1509\n",
       " 2021-04-11  57559.4232\n",
       " 2021-04-12  57778.3525\n",
       " 2021-04-13  58329.8806\n",
       " 2021-04-14  58774.3898\n",
       " \n",
       " [3475 rows x 1 columns],\n",
       " {'1: Symbol': 'BTCUSD',\n",
       "  '2: Indicator': 'Exponential Moving Average (EMA)',\n",
       "  '3: Last Refreshed': '2021-04-14',\n",
       "  '4: Interval': 'daily',\n",
       "  '5: Time Period': 20,\n",
       "  '6: Series Type': 'close',\n",
       "  '7: Time Zone': 'US/Eastern'})"
      ]
     },
     "metadata": {},
     "execution_count": 8
    }
   ],
   "source": [
    "btc_ema"
   ]
  },
  {
   "cell_type": "code",
   "execution_count": null,
   "metadata": {},
   "outputs": [],
   "source": [
    "ti = TechIndicators(key = av_key, output_format = 'pandas')\n",
    "data, meta_data = ti.get_ema(symbol='CryptoCurrency:BTC', interval='daily', time_period=20)"
   ]
  },
  {
   "cell_type": "code",
   "execution_count": null,
   "metadata": {},
   "outputs": [],
   "source": [
    "cc = CryptoCurrencies(key=av_key,output_format='pandas')\n",
    "data, meta_data = cc.get_digital_currency_daily(symbol='BTC',market='USD')"
   ]
  },
  {
   "cell_type": "code",
   "execution_count": null,
   "metadata": {},
   "outputs": [],
   "source": []
  },
  {
   "cell_type": "code",
   "execution_count": null,
   "metadata": {},
   "outputs": [],
   "source": [
    "split1 = int(.65*len(btc_historical_df))\n",
    "split2 = int(.5*len(val_test))\n",
    "\n",
    "\n",
    "trainset = btc_historical_df[:split1]\n",
    "val_test = btc_historical_df[split1:]\n",
    "validation_set = val_test[:split2]\n",
    "testset = val_test[split2:]"
   ]
  },
  {
   "cell_type": "code",
   "execution_count": null,
   "metadata": {},
   "outputs": [],
   "source": [
    "av_key"
   ]
  },
  {
   "cell_type": "code",
   "execution_count": null,
   "metadata": {},
   "outputs": [],
   "source": []
  }
 ]
}