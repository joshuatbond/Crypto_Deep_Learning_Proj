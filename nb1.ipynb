{
 "metadata": {
  "language_info": {
   "codemirror_mode": {
    "name": "ipython",
    "version": 3
   },
   "file_extension": ".py",
   "mimetype": "text/x-python",
   "name": "python",
   "nbconvert_exporter": "python",
   "pygments_lexer": "ipython3",
   "version": "3.7.9-final"
  },
  "orig_nbformat": 2,
  "kernelspec": {
   "name": "python379jvsc74a57bd04cb5ea3394bfdc6abf1cba6e6023a5136a123bd60d92a96eabaf849483bfdf79",
   "display_name": "Python 3.7.9 64-bit ('dev': conda)"
  }
 },
 "nbformat": 4,
 "nbformat_minor": 2,
 "cells": [
  {
   "cell_type": "code",
   "execution_count": 2,
   "metadata": {},
   "outputs": [
    {
     "output_type": "stream",
     "name": "stderr",
     "text": [
      "\nBad key \"text.kerning_factor\" on line 4 in\nC:\\Users\\Josh Bond\\Anaconda3\\envs\\dev\\lib\\site-packages\\matplotlib\\mpl-data\\stylelib\\_classic_test_patch.mplstyle.\nYou probably need to get an updated matplotlibrc file from\nhttp://github.com/matplotlib/matplotlib/blob/master/matplotlibrc.template\nor from the matplotlib source distribution\n"
     ]
    }
   ],
   "source": [
    "import os\n",
    "import pandas as pd\n",
    "import numpy as np\n",
    "import pickle as pk\n",
    "from sklearn.decomposition import PCA\n",
    "from sklearn.preprocessing import StandardScaler\n",
    "import matplotlib.pyplot as plt\n",
    "import ccxt\n",
    "import time\n",
    "from dotenv import load_dotenv\n",
    "from alpha_vantage.techindicators import TechIndicators"
   ]
  },
  {
   "cell_type": "code",
   "execution_count": 3,
   "metadata": {},
   "outputs": [
    {
     "output_type": "execute_result",
     "data": {
      "text/plain": [
       "True"
      ]
     },
     "metadata": {},
     "execution_count": 3
    }
   ],
   "source": [
    "load_dotenv()"
   ]
  },
  {
   "cell_type": "code",
   "execution_count": 4,
   "metadata": {},
   "outputs": [],
   "source": [
    "kraken_pub_key = os.getenv(\"KRAKEN_PUBLIC_KEY\")\n",
    "kraken_sec_key = os.getenv(\"KRAKEN_SECRET_KEY\")\n",
    "kraken = ccxt.kraken({\"apiKey\": kraken_pub_key, \"secret\": kraken_sec_key})\n",
    "\n",
    "av_key = os.getenv(\"ALPHAVANTAGE_API_KEY\")"
   ]
  },
  {
   "cell_type": "code",
   "execution_count": 5,
   "metadata": {},
   "outputs": [],
   "source": [
    "# Getting BTC data and setting columns and date\n",
    "btc_historical = kraken.fetch_ohlcv(\"BTC/USD\", \"1d\")\n",
    "btc_historical_df = pd.DataFrame(\n",
    "    btc_historical, \n",
    "    columns=['date','open','high','low','close','volume']\n",
    ")\n",
    "btc_historical_df['date'] = pd.to_datetime(btc_historical_df['date'], unit='ms')\n",
    "btc_historical_df = btc_historical_df.sort_values(by='date')"
   ]
  },
  {
   "cell_type": "code",
   "execution_count": 14,
   "metadata": {},
   "outputs": [],
   "source": [
    "# Technical indicator variables\n",
    "ti = TechIndicators(output_format = 'pandas')\n",
    "ema = ti.get_ema('BTCUSD', interval='daily', time_period=20)\n",
    "bbands = ti.get_bbands('BTCUSD', interval='daily', time_period=20, series_type='close', matype=1)\n",
    "rsi = ti.get_rsi('BTCUSD',)"
   ]
  },
  {
   "cell_type": "code",
   "execution_count": 15,
   "metadata": {},
   "outputs": [
    {
     "output_type": "execute_result",
     "data": {
      "text/plain": [
       "(            Real Upper Band  Real Lower Band  Real Middle Band\n",
       " date                                                          \n",
       " 2011-09-19          13.2774           3.4576            8.3675\n",
       " 2011-09-20          13.0241           3.0504            8.0373\n",
       " 2011-09-21          12.6109           3.0109            7.8109\n",
       " 2011-09-22          12.1301           3.0820            7.6060\n",
       " 2011-09-23          11.5651           3.2877            7.4264\n",
       " 2011-09-24          10.8799           3.6479            7.2639\n",
       " 2011-09-25          10.3509           3.8752            7.1130\n",
       " 2011-09-26           9.8606           4.1630            7.0118\n",
       " 2011-09-27           9.6381           3.9642            6.8011\n",
       " 2011-09-28           9.3679           3.8761            6.6220\n",
       " 2011-09-29           8.9326           3.9682            6.4504\n",
       " 2011-09-30           8.4022           4.1880            6.2951\n",
       " 2011-10-04           8.0078           4.3109            6.1594\n",
       " 2011-10-05           7.3130           4.7811            6.0471\n",
       " 2011-10-06           6.8063           5.0731            5.9397\n",
       " 2011-10-07           6.6492           5.0131            5.8312\n",
       " 2011-10-08           6.5525           4.8772            5.7149\n",
       " 2011-10-09           6.5257           4.5755            5.5506\n",
       " 2011-10-10           6.4940           4.2909            5.3924\n",
       " 2011-10-11           6.4314           4.1854            5.3084\n",
       " 2011-10-12           6.3846           4.0021            5.1933\n",
       " 2011-10-13           6.3479           3.7981            5.0730\n",
       " 2011-10-14           6.2600           3.6759            4.9680\n",
       " 2011-10-15           6.1583           3.6028            4.8805\n",
       " 2011-10-18           6.0361           3.5420            4.7890\n",
       " 2011-10-21           6.0926           3.0000            4.5463\n",
       " 2011-10-22           6.0564           2.6026            4.3295\n",
       " 2011-10-25           5.8327           2.5578            4.1953\n",
       " 2011-10-26           5.7799           2.3296            4.0548\n",
       " 2011-10-27           5.7013           2.1482            3.9248\n",
       " ...                     ...              ...               ...\n",
       " 2021-03-18       63817.3983       45020.4899        54418.9441\n",
       " 2021-03-19       63795.1242       45732.2142        54763.6692\n",
       " 2021-03-20       63370.4325       46793.1846        55081.8086\n",
       " 2021-03-21       63365.5500       47231.0332        55298.2916\n",
       " 2021-03-22       62716.5340       47650.2042        55183.3691\n",
       " 2021-03-23       62327.4347       47881.7855        55104.6101\n",
       " 2021-03-24       61485.1846       48189.9808        54837.5827\n",
       " 2021-03-25       60709.8737       48293.0428        54501.4583\n",
       " 2021-03-26       59947.4490       49156.3535        54551.9013\n",
       " 2021-03-27       59565.1241       49781.7330        54673.4285\n",
       " 2021-03-28       59355.4659       50201.3526        54778.4093\n",
       " 2021-03-29       59607.3625       50492.9759        55050.1692\n",
       " 2021-03-30       60052.5474       50752.5955        55402.5714\n",
       " 2021-03-31       60439.2609       51005.2625        55722.2617\n",
       " 2021-04-01       60803.6523       51212.7108        56008.1816\n",
       " 2021-04-02       60761.2599       51816.9716        56289.1157\n",
       " 2021-04-03       60711.4666       52014.1985        56362.8325\n",
       " 2021-04-04       60921.1568       52155.2636        56538.2102\n",
       " 2021-04-05       61286.2426       52274.9189        56780.5807\n",
       " 2021-04-06       61332.5690       52459.5005        56896.0348\n",
       " 2021-04-07       61235.3951       52376.1165        56805.7558\n",
       " 2021-04-08       61359.5869       52494.9127        56927.2498\n",
       " 2021-04-09       61475.7997       52607.7647        57041.7822\n",
       " 2021-04-10       61932.3123       52671.9895        57302.1509\n",
       " 2021-04-11       62217.6013       52901.2451        57559.4232\n",
       " 2021-04-12       62409.1511       53147.5538        57778.3525\n",
       " 2021-04-13       63103.0762       53557.7937        58330.4350\n",
       " 2021-04-14       62982.3447       54559.8969        58771.1208\n",
       " 2021-04-15       63551.2738       54829.9384        59190.6061\n",
       " 2021-04-16       63638.7427       55154.4296        59396.5861\n",
       " \n",
       " [3477 rows x 3 columns],\n",
       " {'1: Symbol': 'BTCUSD',\n",
       "  '2: Indicator': 'Bollinger Bands (BBANDS)',\n",
       "  '3: Last Refreshed': '2021-04-16',\n",
       "  '4: Interval': 'daily',\n",
       "  '5: Time Period': 20,\n",
       "  '6.1: Deviation multiplier for upper band': 2,\n",
       "  '6.2: Deviation multiplier for lower band': 2,\n",
       "  '6.3: MA Type': 1,\n",
       "  '7: Series Type': 'close',\n",
       "  '8: Time Zone': 'US/Eastern Time'})"
      ]
     },
     "metadata": {},
     "execution_count": 15
    }
   ],
   "source": [
    "bbands"
   ]
  },
  {
   "cell_type": "code",
   "execution_count": null,
   "metadata": {},
   "outputs": [],
   "source": [
    "split1 = int(.65*len(btc_historical_df))\n",
    "split2 = int(.5*len(val_test))\n",
    "\n",
    "\n",
    "trainset = btc_historical_df[:split1]\n",
    "val_test = btc_historical_df[split1:]\n",
    "validation_set = val_test[:split2]\n",
    "testset = val_test[split2:]"
   ]
  },
  {
   "cell_type": "code",
   "execution_count": null,
   "metadata": {},
   "outputs": [],
   "source": [
    "av_key"
   ]
  },
  {
   "cell_type": "code",
   "execution_count": null,
   "metadata": {},
   "outputs": [],
   "source": []
  }
 ]
}