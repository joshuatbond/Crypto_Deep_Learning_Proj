{
 "metadata": {
  "language_info": {
   "codemirror_mode": {
    "name": "ipython",
    "version": 3
   },
   "file_extension": ".py",
   "mimetype": "text/x-python",
   "name": "python",
   "nbconvert_exporter": "python",
   "pygments_lexer": "ipython3",
   "version": "3.7.9-final"
  },
  "orig_nbformat": 2,
  "kernelspec": {
   "name": "python379jvsc74a57bd04cb5ea3394bfdc6abf1cba6e6023a5136a123bd60d92a96eabaf849483bfdf79",
   "display_name": "Python 3.7.9 64-bit ('dev': conda)"
  }
 },
 "nbformat": 4,
 "nbformat_minor": 2,
 "cells": [
  {
   "cell_type": "code",
   "execution_count": 1,
   "metadata": {},
   "outputs": [
    {
     "output_type": "stream",
     "name": "stderr",
     "text": [
      "\nBad key \"text.kerning_factor\" on line 4 in\nC:\\Users\\Josh Bond\\Anaconda3\\envs\\dev\\lib\\site-packages\\matplotlib\\mpl-data\\stylelib\\_classic_test_patch.mplstyle.\nYou probably need to get an updated matplotlibrc file from\nhttp://github.com/matplotlib/matplotlib/blob/master/matplotlibrc.template\nor from the matplotlib source distribution\n"
     ]
    }
   ],
   "source": [
    "import os\n",
    "import pandas as pd\n",
    "import numpy as np\n",
    "import pickle as pk\n",
    "from sklearn.decomposition import PCA\n",
    "from sklearn.preprocessing import StandardScaler\n",
    "import matplotlib.pyplot as plt\n",
    "import ccxt\n",
    "import time\n",
    "from dotenv import load_dotenv"
   ]
  },
  {
   "cell_type": "code",
   "execution_count": 2,
   "metadata": {},
   "outputs": [
    {
     "output_type": "execute_result",
     "data": {
      "text/plain": [
       "True"
      ]
     },
     "metadata": {},
     "execution_count": 2
    }
   ],
   "source": [
    "load_dotenv()"
   ]
  },
  {
   "cell_type": "code",
   "execution_count": 3,
   "metadata": {},
   "outputs": [],
   "source": [
    "kraken_pub_key = os.getenv(\"KRAKEN_PUBLIC_KEY\")\n",
    "kraken_sec_key = os.getenv(\"KRAKEN_SECRET_KEY\")\n",
    "kraken = ccxt.kraken({\"apiKey\": kraken_pub_key, \"secret\": kraken_sec_key})"
   ]
  },
  {
   "cell_type": "code",
   "execution_count": 17,
   "metadata": {},
   "outputs": [],
   "source": [
    "# Getting BTC data and setting columns and date\n",
    "btc_historical = kraken.fetch_ohlcv(\"BTC/USD\", \"1d\")\n",
    "btc_historical_df = pd.DataFrame(\n",
    "    btc_historical, \n",
    "    columns=['date','open','high','low','close','volume']\n",
    ")\n",
    "btc_historical_df['date'] = pd.to_datetime(btc_historical_df['date'], unit='ms')\n",
    "btc_historical_df = btc_historical_df.sort_values(by='date')"
   ]
  },
  {
   "cell_type": "code",
   "execution_count": 18,
   "metadata": {},
   "outputs": [
    {
     "output_type": "execute_result",
     "data": {
      "text/plain": [
       "          date     open     high      low    close        volume\n",
       "0   2019-04-26   5128.7   5290.0   5043.3   5153.0   4036.150845\n",
       "1   2019-04-27   5154.5   5216.5   5116.7   5168.5   1650.067797\n",
       "2   2019-04-28   5169.8   5215.4   5100.2   5158.9   1187.831711\n",
       "3   2019-04-29   5156.2   5194.2   5061.1   5149.0   1679.761399\n",
       "4   2019-04-30   5152.8   5297.0   5132.0   5273.0   2809.117861\n",
       "5   2019-05-01   5272.2   5358.9   5270.0   5324.1   2443.446835\n",
       "6   2019-05-02   5323.2   5421.7   5311.3   5390.5   2110.269279\n",
       "7   2019-05-03   5390.0   5796.0   5368.7   5660.0   5333.946731\n",
       "8   2019-05-04   5658.8   5840.0   5525.0   5763.5   4734.710116\n",
       "9   2019-05-05   5765.6   5779.9   5627.6   5719.3   1638.092777\n",
       "10  2019-05-06   5719.1   5752.0   5563.4   5687.4   2505.178515\n",
       "11  2019-05-07   5687.6   5967.8   5687.6   5745.2   4190.392779\n",
       "12  2019-05-08   5746.5   5983.2   5660.0   5942.1   2474.471995\n",
       "13  2019-05-09   5949.7   6174.0   5933.2   6151.4   4525.933900\n",
       "14  2019-05-10   6151.4   6430.0   6110.1   6339.1   5606.970609\n",
       "15  2019-05-11   6339.5   7450.0   6338.0   7201.0  10134.256998\n",
       "16  2019-05-12   7207.9   7588.0   6724.1   6975.7   9314.253592\n",
       "17  2019-05-13   6970.1   8169.3   6870.0   7816.4  11516.042297\n",
       "18  2019-05-14   7817.5   8336.9   7620.0   7993.7   9676.216127\n",
       "19  2019-05-15   7988.9   8296.9   7829.6   8203.0   5522.874582\n",
       "20  2019-05-16   8201.5   8370.0   7650.0   7880.7   7538.001228\n",
       "21  2019-05-17   7883.6   7946.2   6636.0   7350.1  10059.527422\n",
       "22  2019-05-18   7353.9   7494.2   7205.0   7265.0   2847.923364\n",
       "23  2019-05-19   7265.8   8300.0   7261.4   8194.9   7146.233079\n",
       "24  2019-05-20   8191.1   8198.2   7567.2   8005.0   6107.537956\n",
       "25  2019-05-21   7999.2   8116.0   7807.0   7951.9   3632.689096\n",
       "26  2019-05-22   7951.7   8050.0   7510.0   7620.0   4495.657158\n",
       "27  2019-05-23   7623.1   7986.6   7470.0   7878.9   4686.806289\n",
       "28  2019-05-24   7880.5   8173.7   7800.3   8000.0   4597.595436\n",
       "29  2019-05-25   8000.0   8161.0   7951.1   8066.5   1449.143189\n",
       "..         ...      ...      ...      ...      ...           ...\n",
       "690 2021-03-16  55627.6  56891.1  52500.0  56891.1   6381.124284\n",
       "691 2021-03-17  56891.1  58951.0  53752.0  58933.0   6509.292583\n",
       "692 2021-03-18  58940.5  60000.0  57007.0  57640.9   5831.857911\n",
       "693 2021-03-19  57640.0  59461.5  56243.1  58101.8   3859.358656\n",
       "694 2021-03-20  58085.0  59880.0  57545.2  58091.6   3369.762508\n",
       "695 2021-03-21  58080.5  58835.6  55536.5  57378.4   3911.977346\n",
       "696 2021-03-22  57368.8  58403.2  53775.0  54095.1   6156.277732\n",
       "697 2021-03-23  54098.2  55814.9  53011.0  54351.3   5033.165327\n",
       "698 2021-03-24  54341.2  57200.0  51641.8  52293.8   7897.280013\n",
       "699 2021-03-25  52280.4  53219.9  50436.3  51314.9   6482.784931\n",
       "700 2021-03-26  51318.2  55107.0  51239.1  55062.2   4954.121126\n",
       "701 2021-03-27  55062.1  56668.0  54000.0  55852.4   3968.915827\n",
       "702 2021-03-28  55852.5  56550.0  54690.9  55782.0   3562.546813\n",
       "703 2021-03-29  55782.3  58619.7  54919.0  57624.2   5884.891600\n",
       "704 2021-03-30  57627.5  59380.0  57055.0  58781.0   3941.687294\n",
       "705 2021-03-31  58781.1  59800.0  56813.8  58786.2   5451.568291\n",
       "706 2021-04-01  58780.4  59474.6  57917.1  58732.9   2449.859135\n",
       "707 2021-04-02  58732.9  60025.0  58500.0  59020.7   4199.507289\n",
       "708 2021-04-03  59020.7  59867.1  56955.0  57099.0   3552.820881\n",
       "709 2021-04-04  57099.0  58495.6  56468.4  58195.0   2188.976591\n",
       "710 2021-04-05  58195.1  59278.1  56820.0  59120.0   3422.703824\n",
       "711 2021-04-06  59120.0  59462.8  57377.1  58017.1   2656.521275\n",
       "712 2021-04-07  58017.2  58652.1  55460.0  55928.5   5047.943509\n",
       "713 2021-04-08  55936.6  58159.1  55728.0  58036.9   2513.629469\n",
       "714 2021-04-09  58037.0  58890.4  57538.3  58110.0   3098.679646\n",
       "715 2021-04-10  58110.0  61207.0  57882.0  59775.6   5891.770009\n",
       "716 2021-04-11  59760.9  60652.6  59178.7  59956.0   2616.046173\n",
       "717 2021-04-12  59967.9  61200.0  59420.0  59823.7   3520.971007\n",
       "718 2021-04-13  59823.7  63882.5  59781.2  63587.2   6335.663844\n",
       "719 2021-04-14  63581.0  64900.0  61315.0  62840.8   5912.816906\n",
       "\n",
       "[720 rows x 6 columns]"
      ],
      "text/html": "<div>\n<style scoped>\n    .dataframe tbody tr th:only-of-type {\n        vertical-align: middle;\n    }\n\n    .dataframe tbody tr th {\n        vertical-align: top;\n    }\n\n    .dataframe thead th {\n        text-align: right;\n    }\n</style>\n<table border=\"1\" class=\"dataframe\">\n  <thead>\n    <tr style=\"text-align: right;\">\n      <th></th>\n      <th>date</th>\n      <th>open</th>\n      <th>high</th>\n      <th>low</th>\n      <th>close</th>\n      <th>volume</th>\n    </tr>\n  </thead>\n  <tbody>\n    <tr>\n      <th>0</th>\n      <td>2019-04-26</td>\n      <td>5128.7</td>\n      <td>5290.0</td>\n      <td>5043.3</td>\n      <td>5153.0</td>\n      <td>4036.150845</td>\n    </tr>\n    <tr>\n      <th>1</th>\n      <td>2019-04-27</td>\n      <td>5154.5</td>\n      <td>5216.5</td>\n      <td>5116.7</td>\n      <td>5168.5</td>\n      <td>1650.067797</td>\n    </tr>\n    <tr>\n      <th>2</th>\n      <td>2019-04-28</td>\n      <td>5169.8</td>\n      <td>5215.4</td>\n      <td>5100.2</td>\n      <td>5158.9</td>\n      <td>1187.831711</td>\n    </tr>\n    <tr>\n      <th>3</th>\n      <td>2019-04-29</td>\n      <td>5156.2</td>\n      <td>5194.2</td>\n      <td>5061.1</td>\n      <td>5149.0</td>\n      <td>1679.761399</td>\n    </tr>\n    <tr>\n      <th>4</th>\n      <td>2019-04-30</td>\n      <td>5152.8</td>\n      <td>5297.0</td>\n      <td>5132.0</td>\n      <td>5273.0</td>\n      <td>2809.117861</td>\n    </tr>\n    <tr>\n      <th>5</th>\n      <td>2019-05-01</td>\n      <td>5272.2</td>\n      <td>5358.9</td>\n      <td>5270.0</td>\n      <td>5324.1</td>\n      <td>2443.446835</td>\n    </tr>\n    <tr>\n      <th>6</th>\n      <td>2019-05-02</td>\n      <td>5323.2</td>\n      <td>5421.7</td>\n      <td>5311.3</td>\n      <td>5390.5</td>\n      <td>2110.269279</td>\n    </tr>\n    <tr>\n      <th>7</th>\n      <td>2019-05-03</td>\n      <td>5390.0</td>\n      <td>5796.0</td>\n      <td>5368.7</td>\n      <td>5660.0</td>\n      <td>5333.946731</td>\n    </tr>\n    <tr>\n      <th>8</th>\n      <td>2019-05-04</td>\n      <td>5658.8</td>\n      <td>5840.0</td>\n      <td>5525.0</td>\n      <td>5763.5</td>\n      <td>4734.710116</td>\n    </tr>\n    <tr>\n      <th>9</th>\n      <td>2019-05-05</td>\n      <td>5765.6</td>\n      <td>5779.9</td>\n      <td>5627.6</td>\n      <td>5719.3</td>\n      <td>1638.092777</td>\n    </tr>\n    <tr>\n      <th>10</th>\n      <td>2019-05-06</td>\n      <td>5719.1</td>\n      <td>5752.0</td>\n      <td>5563.4</td>\n      <td>5687.4</td>\n      <td>2505.178515</td>\n    </tr>\n    <tr>\n      <th>11</th>\n      <td>2019-05-07</td>\n      <td>5687.6</td>\n      <td>5967.8</td>\n      <td>5687.6</td>\n      <td>5745.2</td>\n      <td>4190.392779</td>\n    </tr>\n    <tr>\n      <th>12</th>\n      <td>2019-05-08</td>\n      <td>5746.5</td>\n      <td>5983.2</td>\n      <td>5660.0</td>\n      <td>5942.1</td>\n      <td>2474.471995</td>\n    </tr>\n    <tr>\n      <th>13</th>\n      <td>2019-05-09</td>\n      <td>5949.7</td>\n      <td>6174.0</td>\n      <td>5933.2</td>\n      <td>6151.4</td>\n      <td>4525.933900</td>\n    </tr>\n    <tr>\n      <th>14</th>\n      <td>2019-05-10</td>\n      <td>6151.4</td>\n      <td>6430.0</td>\n      <td>6110.1</td>\n      <td>6339.1</td>\n      <td>5606.970609</td>\n    </tr>\n    <tr>\n      <th>15</th>\n      <td>2019-05-11</td>\n      <td>6339.5</td>\n      <td>7450.0</td>\n      <td>6338.0</td>\n      <td>7201.0</td>\n      <td>10134.256998</td>\n    </tr>\n    <tr>\n      <th>16</th>\n      <td>2019-05-12</td>\n      <td>7207.9</td>\n      <td>7588.0</td>\n      <td>6724.1</td>\n      <td>6975.7</td>\n      <td>9314.253592</td>\n    </tr>\n    <tr>\n      <th>17</th>\n      <td>2019-05-13</td>\n      <td>6970.1</td>\n      <td>8169.3</td>\n      <td>6870.0</td>\n      <td>7816.4</td>\n      <td>11516.042297</td>\n    </tr>\n    <tr>\n      <th>18</th>\n      <td>2019-05-14</td>\n      <td>7817.5</td>\n      <td>8336.9</td>\n      <td>7620.0</td>\n      <td>7993.7</td>\n      <td>9676.216127</td>\n    </tr>\n    <tr>\n      <th>19</th>\n      <td>2019-05-15</td>\n      <td>7988.9</td>\n      <td>8296.9</td>\n      <td>7829.6</td>\n      <td>8203.0</td>\n      <td>5522.874582</td>\n    </tr>\n    <tr>\n      <th>20</th>\n      <td>2019-05-16</td>\n      <td>8201.5</td>\n      <td>8370.0</td>\n      <td>7650.0</td>\n      <td>7880.7</td>\n      <td>7538.001228</td>\n    </tr>\n    <tr>\n      <th>21</th>\n      <td>2019-05-17</td>\n      <td>7883.6</td>\n      <td>7946.2</td>\n      <td>6636.0</td>\n      <td>7350.1</td>\n      <td>10059.527422</td>\n    </tr>\n    <tr>\n      <th>22</th>\n      <td>2019-05-18</td>\n      <td>7353.9</td>\n      <td>7494.2</td>\n      <td>7205.0</td>\n      <td>7265.0</td>\n      <td>2847.923364</td>\n    </tr>\n    <tr>\n      <th>23</th>\n      <td>2019-05-19</td>\n      <td>7265.8</td>\n      <td>8300.0</td>\n      <td>7261.4</td>\n      <td>8194.9</td>\n      <td>7146.233079</td>\n    </tr>\n    <tr>\n      <th>24</th>\n      <td>2019-05-20</td>\n      <td>8191.1</td>\n      <td>8198.2</td>\n      <td>7567.2</td>\n      <td>8005.0</td>\n      <td>6107.537956</td>\n    </tr>\n    <tr>\n      <th>25</th>\n      <td>2019-05-21</td>\n      <td>7999.2</td>\n      <td>8116.0</td>\n      <td>7807.0</td>\n      <td>7951.9</td>\n      <td>3632.689096</td>\n    </tr>\n    <tr>\n      <th>26</th>\n      <td>2019-05-22</td>\n      <td>7951.7</td>\n      <td>8050.0</td>\n      <td>7510.0</td>\n      <td>7620.0</td>\n      <td>4495.657158</td>\n    </tr>\n    <tr>\n      <th>27</th>\n      <td>2019-05-23</td>\n      <td>7623.1</td>\n      <td>7986.6</td>\n      <td>7470.0</td>\n      <td>7878.9</td>\n      <td>4686.806289</td>\n    </tr>\n    <tr>\n      <th>28</th>\n      <td>2019-05-24</td>\n      <td>7880.5</td>\n      <td>8173.7</td>\n      <td>7800.3</td>\n      <td>8000.0</td>\n      <td>4597.595436</td>\n    </tr>\n    <tr>\n      <th>29</th>\n      <td>2019-05-25</td>\n      <td>8000.0</td>\n      <td>8161.0</td>\n      <td>7951.1</td>\n      <td>8066.5</td>\n      <td>1449.143189</td>\n    </tr>\n    <tr>\n      <th>...</th>\n      <td>...</td>\n      <td>...</td>\n      <td>...</td>\n      <td>...</td>\n      <td>...</td>\n      <td>...</td>\n    </tr>\n    <tr>\n      <th>690</th>\n      <td>2021-03-16</td>\n      <td>55627.6</td>\n      <td>56891.1</td>\n      <td>52500.0</td>\n      <td>56891.1</td>\n      <td>6381.124284</td>\n    </tr>\n    <tr>\n      <th>691</th>\n      <td>2021-03-17</td>\n      <td>56891.1</td>\n      <td>58951.0</td>\n      <td>53752.0</td>\n      <td>58933.0</td>\n      <td>6509.292583</td>\n    </tr>\n    <tr>\n      <th>692</th>\n      <td>2021-03-18</td>\n      <td>58940.5</td>\n      <td>60000.0</td>\n      <td>57007.0</td>\n      <td>57640.9</td>\n      <td>5831.857911</td>\n    </tr>\n    <tr>\n      <th>693</th>\n      <td>2021-03-19</td>\n      <td>57640.0</td>\n      <td>59461.5</td>\n      <td>56243.1</td>\n      <td>58101.8</td>\n      <td>3859.358656</td>\n    </tr>\n    <tr>\n      <th>694</th>\n      <td>2021-03-20</td>\n      <td>58085.0</td>\n      <td>59880.0</td>\n      <td>57545.2</td>\n      <td>58091.6</td>\n      <td>3369.762508</td>\n    </tr>\n    <tr>\n      <th>695</th>\n      <td>2021-03-21</td>\n      <td>58080.5</td>\n      <td>58835.6</td>\n      <td>55536.5</td>\n      <td>57378.4</td>\n      <td>3911.977346</td>\n    </tr>\n    <tr>\n      <th>696</th>\n      <td>2021-03-22</td>\n      <td>57368.8</td>\n      <td>58403.2</td>\n      <td>53775.0</td>\n      <td>54095.1</td>\n      <td>6156.277732</td>\n    </tr>\n    <tr>\n      <th>697</th>\n      <td>2021-03-23</td>\n      <td>54098.2</td>\n      <td>55814.9</td>\n      <td>53011.0</td>\n      <td>54351.3</td>\n      <td>5033.165327</td>\n    </tr>\n    <tr>\n      <th>698</th>\n      <td>2021-03-24</td>\n      <td>54341.2</td>\n      <td>57200.0</td>\n      <td>51641.8</td>\n      <td>52293.8</td>\n      <td>7897.280013</td>\n    </tr>\n    <tr>\n      <th>699</th>\n      <td>2021-03-25</td>\n      <td>52280.4</td>\n      <td>53219.9</td>\n      <td>50436.3</td>\n      <td>51314.9</td>\n      <td>6482.784931</td>\n    </tr>\n    <tr>\n      <th>700</th>\n      <td>2021-03-26</td>\n      <td>51318.2</td>\n      <td>55107.0</td>\n      <td>51239.1</td>\n      <td>55062.2</td>\n      <td>4954.121126</td>\n    </tr>\n    <tr>\n      <th>701</th>\n      <td>2021-03-27</td>\n      <td>55062.1</td>\n      <td>56668.0</td>\n      <td>54000.0</td>\n      <td>55852.4</td>\n      <td>3968.915827</td>\n    </tr>\n    <tr>\n      <th>702</th>\n      <td>2021-03-28</td>\n      <td>55852.5</td>\n      <td>56550.0</td>\n      <td>54690.9</td>\n      <td>55782.0</td>\n      <td>3562.546813</td>\n    </tr>\n    <tr>\n      <th>703</th>\n      <td>2021-03-29</td>\n      <td>55782.3</td>\n      <td>58619.7</td>\n      <td>54919.0</td>\n      <td>57624.2</td>\n      <td>5884.891600</td>\n    </tr>\n    <tr>\n      <th>704</th>\n      <td>2021-03-30</td>\n      <td>57627.5</td>\n      <td>59380.0</td>\n      <td>57055.0</td>\n      <td>58781.0</td>\n      <td>3941.687294</td>\n    </tr>\n    <tr>\n      <th>705</th>\n      <td>2021-03-31</td>\n      <td>58781.1</td>\n      <td>59800.0</td>\n      <td>56813.8</td>\n      <td>58786.2</td>\n      <td>5451.568291</td>\n    </tr>\n    <tr>\n      <th>706</th>\n      <td>2021-04-01</td>\n      <td>58780.4</td>\n      <td>59474.6</td>\n      <td>57917.1</td>\n      <td>58732.9</td>\n      <td>2449.859135</td>\n    </tr>\n    <tr>\n      <th>707</th>\n      <td>2021-04-02</td>\n      <td>58732.9</td>\n      <td>60025.0</td>\n      <td>58500.0</td>\n      <td>59020.7</td>\n      <td>4199.507289</td>\n    </tr>\n    <tr>\n      <th>708</th>\n      <td>2021-04-03</td>\n      <td>59020.7</td>\n      <td>59867.1</td>\n      <td>56955.0</td>\n      <td>57099.0</td>\n      <td>3552.820881</td>\n    </tr>\n    <tr>\n      <th>709</th>\n      <td>2021-04-04</td>\n      <td>57099.0</td>\n      <td>58495.6</td>\n      <td>56468.4</td>\n      <td>58195.0</td>\n      <td>2188.976591</td>\n    </tr>\n    <tr>\n      <th>710</th>\n      <td>2021-04-05</td>\n      <td>58195.1</td>\n      <td>59278.1</td>\n      <td>56820.0</td>\n      <td>59120.0</td>\n      <td>3422.703824</td>\n    </tr>\n    <tr>\n      <th>711</th>\n      <td>2021-04-06</td>\n      <td>59120.0</td>\n      <td>59462.8</td>\n      <td>57377.1</td>\n      <td>58017.1</td>\n      <td>2656.521275</td>\n    </tr>\n    <tr>\n      <th>712</th>\n      <td>2021-04-07</td>\n      <td>58017.2</td>\n      <td>58652.1</td>\n      <td>55460.0</td>\n      <td>55928.5</td>\n      <td>5047.943509</td>\n    </tr>\n    <tr>\n      <th>713</th>\n      <td>2021-04-08</td>\n      <td>55936.6</td>\n      <td>58159.1</td>\n      <td>55728.0</td>\n      <td>58036.9</td>\n      <td>2513.629469</td>\n    </tr>\n    <tr>\n      <th>714</th>\n      <td>2021-04-09</td>\n      <td>58037.0</td>\n      <td>58890.4</td>\n      <td>57538.3</td>\n      <td>58110.0</td>\n      <td>3098.679646</td>\n    </tr>\n    <tr>\n      <th>715</th>\n      <td>2021-04-10</td>\n      <td>58110.0</td>\n      <td>61207.0</td>\n      <td>57882.0</td>\n      <td>59775.6</td>\n      <td>5891.770009</td>\n    </tr>\n    <tr>\n      <th>716</th>\n      <td>2021-04-11</td>\n      <td>59760.9</td>\n      <td>60652.6</td>\n      <td>59178.7</td>\n      <td>59956.0</td>\n      <td>2616.046173</td>\n    </tr>\n    <tr>\n      <th>717</th>\n      <td>2021-04-12</td>\n      <td>59967.9</td>\n      <td>61200.0</td>\n      <td>59420.0</td>\n      <td>59823.7</td>\n      <td>3520.971007</td>\n    </tr>\n    <tr>\n      <th>718</th>\n      <td>2021-04-13</td>\n      <td>59823.7</td>\n      <td>63882.5</td>\n      <td>59781.2</td>\n      <td>63587.2</td>\n      <td>6335.663844</td>\n    </tr>\n    <tr>\n      <th>719</th>\n      <td>2021-04-14</td>\n      <td>63581.0</td>\n      <td>64900.0</td>\n      <td>61315.0</td>\n      <td>62840.8</td>\n      <td>5912.816906</td>\n    </tr>\n  </tbody>\n</table>\n<p>720 rows × 6 columns</p>\n</div>"
     },
     "metadata": {},
     "execution_count": 18
    }
   ],
   "source": [
    "start_validation = '2019-04-26'\n"
   ]
  },
  {
   "cell_type": "code",
   "execution_count": null,
   "metadata": {},
   "outputs": [],
   "source": []
  }
 ]
}